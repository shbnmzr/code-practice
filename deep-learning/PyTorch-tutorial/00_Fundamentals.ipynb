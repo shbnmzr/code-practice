{
 "cells": [
  {
   "cell_type": "code",
   "execution_count": 28,
   "metadata": {
    "collapsed": true
   },
   "outputs": [],
   "source": [
    "import torch\n",
    "import numpy as np\n",
    "import matplotlib.pyplot as plt"
   ]
  },
  {
   "cell_type": "markdown",
   "source": [
    "### NumPy and PyTorch"
   ],
   "metadata": {
    "collapsed": false
   }
  },
  {
   "cell_type": "code",
   "execution_count": 29,
   "outputs": [],
   "source": [
    "MAT1 = torch.rand(size=(2,3,4),\n",
    "                  dtype=torch.float64)"
   ],
   "metadata": {
    "collapsed": false
   }
  },
  {
   "cell_type": "code",
   "execution_count": 30,
   "outputs": [],
   "source": [
    "arr = np.arange(3, 1000, 6)"
   ],
   "metadata": {
    "collapsed": false
   }
  },
  {
   "cell_type": "code",
   "execution_count": 31,
   "outputs": [],
   "source": [
    "VEC = torch.from_numpy(arr).type(torch.float64)"
   ],
   "metadata": {
    "collapsed": false
   }
  },
  {
   "cell_type": "code",
   "execution_count": 32,
   "outputs": [
    {
     "data": {
      "text/plain": "tensor([  3.,   9.,  15.,  21.,  27.,  33.,  39.,  45.,  51.,  57.,  63.,  69.,\n         75.,  81.,  87.,  93.,  99., 105., 111., 117., 123., 129., 135., 141.,\n        147., 153., 159., 165., 171., 177., 183., 189., 195., 201., 207., 213.,\n        219., 225., 231., 237., 243., 249., 255., 261., 267., 273., 279., 285.,\n        291., 297., 303., 309., 315., 321., 327., 333., 339., 345., 351., 357.,\n        363., 369., 375., 381., 387., 393., 399., 405., 411., 417., 423., 429.,\n        435., 441., 447., 453., 459., 465., 471., 477., 483., 489., 495., 501.,\n        507., 513., 519., 525., 531., 537., 543., 549., 555., 561., 567., 573.,\n        579., 585., 591., 597., 603., 609., 615., 621., 627., 633., 639., 645.,\n        651., 657., 663., 669., 675., 681., 687., 693., 699., 705., 711., 717.,\n        723., 729., 735., 741., 747., 753., 759., 765., 771., 777., 783., 789.,\n        795., 801., 807., 813., 819., 825., 831., 837., 843., 849., 855., 861.,\n        867., 873., 879., 885., 891., 897., 903., 909., 915., 921., 927., 933.,\n        939., 945., 951., 957., 963., 969., 975., 981., 987., 993., 999.],\n       dtype=torch.float64)"
     },
     "execution_count": 32,
     "metadata": {},
     "output_type": "execute_result"
    }
   ],
   "source": [
    "VEC"
   ],
   "metadata": {
    "collapsed": false
   }
  },
  {
   "cell_type": "code",
   "execution_count": 33,
   "outputs": [],
   "source": [
    "arr[0] = 123.232323"
   ],
   "metadata": {
    "collapsed": false
   }
  },
  {
   "cell_type": "code",
   "execution_count": 34,
   "outputs": [
    {
     "data": {
      "text/plain": "tensor([  3.,   9.,  15.,  21.,  27.,  33.,  39.,  45.,  51.,  57.,  63.,  69.,\n         75.,  81.,  87.,  93.,  99., 105., 111., 117., 123., 129., 135., 141.,\n        147., 153., 159., 165., 171., 177., 183., 189., 195., 201., 207., 213.,\n        219., 225., 231., 237., 243., 249., 255., 261., 267., 273., 279., 285.,\n        291., 297., 303., 309., 315., 321., 327., 333., 339., 345., 351., 357.,\n        363., 369., 375., 381., 387., 393., 399., 405., 411., 417., 423., 429.,\n        435., 441., 447., 453., 459., 465., 471., 477., 483., 489., 495., 501.,\n        507., 513., 519., 525., 531., 537., 543., 549., 555., 561., 567., 573.,\n        579., 585., 591., 597., 603., 609., 615., 621., 627., 633., 639., 645.,\n        651., 657., 663., 669., 675., 681., 687., 693., 699., 705., 711., 717.,\n        723., 729., 735., 741., 747., 753., 759., 765., 771., 777., 783., 789.,\n        795., 801., 807., 813., 819., 825., 831., 837., 843., 849., 855., 861.,\n        867., 873., 879., 885., 891., 897., 903., 909., 915., 921., 927., 933.,\n        939., 945., 951., 957., 963., 969., 975., 981., 987., 993., 999.],\n       dtype=torch.float64)"
     },
     "execution_count": 34,
     "metadata": {},
     "output_type": "execute_result"
    }
   ],
   "source": [
    "VEC"
   ],
   "metadata": {
    "collapsed": false
   }
  },
  {
   "cell_type": "code",
   "execution_count": 35,
   "outputs": [
    {
     "data": {
      "text/plain": "array([123,   9,  15,  21,  27,  33,  39,  45,  51,  57,  63,  69,  75,\n        81,  87,  93,  99, 105, 111, 117, 123, 129, 135, 141, 147, 153,\n       159, 165, 171, 177, 183, 189, 195, 201, 207, 213, 219, 225, 231,\n       237, 243, 249, 255, 261, 267, 273, 279, 285, 291, 297, 303, 309,\n       315, 321, 327, 333, 339, 345, 351, 357, 363, 369, 375, 381, 387,\n       393, 399, 405, 411, 417, 423, 429, 435, 441, 447, 453, 459, 465,\n       471, 477, 483, 489, 495, 501, 507, 513, 519, 525, 531, 537, 543,\n       549, 555, 561, 567, 573, 579, 585, 591, 597, 603, 609, 615, 621,\n       627, 633, 639, 645, 651, 657, 663, 669, 675, 681, 687, 693, 699,\n       705, 711, 717, 723, 729, 735, 741, 747, 753, 759, 765, 771, 777,\n       783, 789, 795, 801, 807, 813, 819, 825, 831, 837, 843, 849, 855,\n       861, 867, 873, 879, 885, 891, 897, 903, 909, 915, 921, 927, 933,\n       939, 945, 951, 957, 963, 969, 975, 981, 987, 993, 999])"
     },
     "execution_count": 35,
     "metadata": {},
     "output_type": "execute_result"
    }
   ],
   "source": [
    "arr"
   ],
   "metadata": {
    "collapsed": false
   }
  },
  {
   "cell_type": "code",
   "execution_count": 36,
   "outputs": [],
   "source": [
    "VEC[0] = 1919.92"
   ],
   "metadata": {
    "collapsed": false
   }
  },
  {
   "cell_type": "code",
   "execution_count": 37,
   "outputs": [
    {
     "data": {
      "text/plain": "tensor(1919.9200, dtype=torch.float64)"
     },
     "execution_count": 37,
     "metadata": {},
     "output_type": "execute_result"
    }
   ],
   "source": [
    "VEC[0]"
   ],
   "metadata": {
    "collapsed": false
   }
  },
  {
   "cell_type": "code",
   "execution_count": 38,
   "outputs": [
    {
     "data": {
      "text/plain": "123"
     },
     "execution_count": 38,
     "metadata": {},
     "output_type": "execute_result"
    }
   ],
   "source": [
    "arr[0]"
   ],
   "metadata": {
    "collapsed": false
   }
  },
  {
   "cell_type": "code",
   "execution_count": 39,
   "outputs": [],
   "source": [
    "TEN1 = torch.rand(size=(3, 2, 1))"
   ],
   "metadata": {
    "collapsed": false
   }
  },
  {
   "cell_type": "code",
   "execution_count": 40,
   "outputs": [],
   "source": [
    "np_arr = TEN1.numpy()"
   ],
   "metadata": {
    "collapsed": false
   }
  },
  {
   "cell_type": "code",
   "execution_count": 41,
   "outputs": [
    {
     "data": {
      "text/plain": "array([[[0.8696777 ],\n        [0.47100097]],\n\n       [[0.8959531 ],\n        [0.75479484]],\n\n       [[0.6210168 ],\n        [0.45536035]]], dtype=float32)"
     },
     "execution_count": 41,
     "metadata": {},
     "output_type": "execute_result"
    }
   ],
   "source": [
    "np_arr"
   ],
   "metadata": {
    "collapsed": false
   }
  },
  {
   "cell_type": "code",
   "execution_count": 42,
   "outputs": [
    {
     "data": {
      "text/plain": "tensor(0.8697)"
     },
     "execution_count": 42,
     "metadata": {},
     "output_type": "execute_result"
    }
   ],
   "source": [
    "TEN1[0, 0, 0]"
   ],
   "metadata": {
    "collapsed": false
   }
  },
  {
   "cell_type": "code",
   "execution_count": 43,
   "outputs": [],
   "source": [
    "np_arr[0, 0, 0] = 1"
   ],
   "metadata": {
    "collapsed": false
   }
  },
  {
   "cell_type": "code",
   "execution_count": 44,
   "outputs": [
    {
     "data": {
      "text/plain": "tensor(1.)"
     },
     "execution_count": 44,
     "metadata": {},
     "output_type": "execute_result"
    }
   ],
   "source": [
    "TEN1[0, 0, 0]"
   ],
   "metadata": {
    "collapsed": false
   }
  },
  {
   "cell_type": "code",
   "execution_count": 45,
   "outputs": [
    {
     "data": {
      "text/plain": "1.0"
     },
     "execution_count": 45,
     "metadata": {},
     "output_type": "execute_result"
    }
   ],
   "source": [
    "np_arr[0, 0, 0]"
   ],
   "metadata": {
    "collapsed": false
   }
  },
  {
   "cell_type": "markdown",
   "source": [
    "### PyTorch Reproducibility\n",
    "\n",
    "To reduce the randomness and make the code reproducible, we need to define a **random seed**."
   ],
   "metadata": {
    "collapsed": false
   }
  },
  {
   "cell_type": "code",
   "execution_count": 46,
   "outputs": [],
   "source": [
    "random_tensor_A = torch.rand(size=(3, 3))\n",
    "random_tensor_B = torch.rand(size=(3, 3))"
   ],
   "metadata": {
    "collapsed": false
   }
  },
  {
   "cell_type": "code",
   "execution_count": 47,
   "outputs": [
    {
     "data": {
      "text/plain": "tensor([[False, False, False],\n        [False, False, False],\n        [False, False, False]])"
     },
     "execution_count": 47,
     "metadata": {},
     "output_type": "execute_result"
    }
   ],
   "source": [
    "random_tensor_A == random_tensor_B"
   ],
   "metadata": {
    "collapsed": false
   }
  },
  {
   "cell_type": "code",
   "execution_count": 55,
   "outputs": [],
   "source": [
    "RANDOM_SEED = 2091106\n",
    "torch.manual_seed(RANDOM_SEED)\n",
    "random_tensor_C = torch.rand(size=(3, 4))\n",
    "random_tensor_D = torch.rand(size=(3, 4))"
   ],
   "metadata": {
    "collapsed": false
   }
  },
  {
   "cell_type": "code",
   "execution_count": 55,
   "outputs": [],
   "source": [],
   "metadata": {
    "collapsed": false
   }
  },
  {
   "cell_type": "code",
   "execution_count": 56,
   "outputs": [
    {
     "data": {
      "text/plain": "tensor([[False, False, False, False],\n        [False, False, False, False],\n        [False, False, False, False]])"
     },
     "execution_count": 56,
     "metadata": {},
     "output_type": "execute_result"
    }
   ],
   "source": [
    "random_tensor_C == random_tensor_D"
   ],
   "metadata": {
    "collapsed": false
   }
  },
  {
   "cell_type": "code",
   "execution_count": 57,
   "outputs": [],
   "source": [
    "torch.manual_seed(RANDOM_SEED)\n",
    "random_tensor_E = torch.rand(size=(3, 4))"
   ],
   "metadata": {
    "collapsed": false
   }
  },
  {
   "cell_type": "code",
   "execution_count": 58,
   "outputs": [
    {
     "data": {
      "text/plain": "tensor([[True, True, True, True],\n        [True, True, True, True],\n        [True, True, True, True]])"
     },
     "execution_count": 58,
     "metadata": {},
     "output_type": "execute_result"
    }
   ],
   "source": [
    "random_tensor_C == random_tensor_E"
   ],
   "metadata": {
    "collapsed": false
   }
  },
  {
   "cell_type": "markdown",
   "source": [
    "### Running Tensors and Pytorch objects on GPUs"
   ],
   "metadata": {
    "collapsed": false
   }
  },
  {
   "cell_type": "code",
   "execution_count": 59,
   "outputs": [
    {
     "data": {
      "text/plain": "False"
     },
     "execution_count": 59,
     "metadata": {},
     "output_type": "execute_result"
    }
   ],
   "source": [
    "torch.cuda.is_available()"
   ],
   "metadata": {
    "collapsed": false
   }
  },
  {
   "cell_type": "markdown",
   "source": [
    "### Device Agnostic Code"
   ],
   "metadata": {
    "collapsed": false
   }
  },
  {
   "cell_type": "code",
   "execution_count": 62,
   "outputs": [],
   "source": [
    "device = \"cuda\" if torch.cuda.is_available() else \"cpu\""
   ],
   "metadata": {
    "collapsed": false
   }
  },
  {
   "cell_type": "code",
   "execution_count": 63,
   "outputs": [
    {
     "data": {
      "text/plain": "'cpu'"
     },
     "execution_count": 63,
     "metadata": {},
     "output_type": "execute_result"
    }
   ],
   "source": [
    "device"
   ],
   "metadata": {
    "collapsed": false
   }
  },
  {
   "cell_type": "code",
   "execution_count": null,
   "outputs": [],
   "source": [],
   "metadata": {
    "collapsed": false
   }
  }
 ],
 "metadata": {
  "kernelspec": {
   "display_name": "Python 3",
   "language": "python",
   "name": "python3"
  },
  "language_info": {
   "codemirror_mode": {
    "name": "ipython",
    "version": 2
   },
   "file_extension": ".py",
   "mimetype": "text/x-python",
   "name": "python",
   "nbconvert_exporter": "python",
   "pygments_lexer": "ipython2",
   "version": "2.7.6"
  }
 },
 "nbformat": 4,
 "nbformat_minor": 0
}
