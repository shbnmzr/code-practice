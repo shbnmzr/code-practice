{
 "cells": [
  {
   "cell_type": "code",
<<<<<<< HEAD
   "execution_count": 78,
=======
   "execution_count": 5,
>>>>>>> 160bbc10378bb7177d4fd995a0e4d38e262470b2
   "outputs": [],
   "source": [
    "import torch\n",
    "import numpy as np\n",
    "import pandas as pd\n",
    "import matplotlib.pyplot as plt"
   ],
   "metadata": {
    "collapsed": false
   }
  },
  {
   "cell_type": "code",
<<<<<<< HEAD
   "execution_count": 79,
=======
   "execution_count": 6,
>>>>>>> 160bbc10378bb7177d4fd995a0e4d38e262470b2
   "outputs": [
    {
     "name": "stdout",
     "output_type": "stream",
     "text": [
      "1.12.1\n"
     ]
    }
   ],
   "source": [
    "print(torch.__version__)"
   ],
   "metadata": {
    "collapsed": false
   }
  },
  {
   "cell_type": "markdown",
   "source": [
    "## Tensors"
   ],
   "metadata": {
    "collapsed": false
   }
  },
  {
   "cell_type": "markdown",
   "source": [
    "What is a tensor?\n",
    "\n",
    "A tensor is a multidimensional array of numerical values that is used to represent data, such as images, sound, or text.\n",
    "\n",
    "**A *vector* is a special case of a tensor, where the tensor has only one dimension.**"
   ],
   "metadata": {
    "collapsed": false
   }
  },
  {
   "cell_type": "code",
<<<<<<< HEAD
   "execution_count": 80,
   "outputs": [
    {
     "data": {
      "text/plain": "tensor(87)"
     },
     "execution_count": 80,
=======
   "execution_count": 13,
   "outputs": [
    {
     "data": {
      "text/plain": "tensor(7)"
     },
     "execution_count": 13,
>>>>>>> 160bbc10378bb7177d4fd995a0e4d38e262470b2
     "metadata": {},
     "output_type": "execute_result"
    }
   ],
   "source": [
    "# scalar\n",
<<<<<<< HEAD
    "scalar = torch.tensor(87)\n",
=======
    "scalar = torch.tensor(7)\n",
>>>>>>> 160bbc10378bb7177d4fd995a0e4d38e262470b2
    "scalar"
   ],
   "metadata": {
    "collapsed": false
   }
  },
  {
   "cell_type": "code",
<<<<<<< HEAD
   "execution_count": 81,
=======
   "execution_count": 14,
>>>>>>> 160bbc10378bb7177d4fd995a0e4d38e262470b2
   "outputs": [
    {
     "data": {
      "text/plain": "0"
     },
<<<<<<< HEAD
     "execution_count": 81,
=======
     "execution_count": 14,
>>>>>>> 160bbc10378bb7177d4fd995a0e4d38e262470b2
     "metadata": {},
     "output_type": "execute_result"
    }
   ],
   "source": [
    "scalar.ndim"
   ],
   "metadata": {
    "collapsed": false
   }
  },
  {
   "cell_type": "code",
<<<<<<< HEAD
   "execution_count": 82,
=======
   "execution_count": 16,
>>>>>>> 160bbc10378bb7177d4fd995a0e4d38e262470b2
   "outputs": [],
   "source": [
    "number = scalar.item()"
   ],
   "metadata": {
    "collapsed": false
   }
  },
  {
   "cell_type": "code",
<<<<<<< HEAD
   "execution_count": 83,
=======
   "execution_count": 17,
>>>>>>> 160bbc10378bb7177d4fd995a0e4d38e262470b2
   "outputs": [
    {
     "data": {
      "text/plain": "int"
     },
<<<<<<< HEAD
     "execution_count": 83,
=======
     "execution_count": 17,
>>>>>>> 160bbc10378bb7177d4fd995a0e4d38e262470b2
     "metadata": {},
     "output_type": "execute_result"
    }
   ],
   "source": [
    "type(number)"
   ],
   "metadata": {
    "collapsed": false
   }
  },
  {
   "cell_type": "code",
<<<<<<< HEAD
   "execution_count": 84,
=======
   "execution_count": 18,
>>>>>>> 160bbc10378bb7177d4fd995a0e4d38e262470b2
   "outputs": [],
   "source": [
    "# vector\n",
    "vector = torch.tensor([9, 87])"
   ],
   "metadata": {
    "collapsed": false
   }
  },
  {
   "cell_type": "code",
<<<<<<< HEAD
   "execution_count": 85,
=======
   "execution_count": 19,
>>>>>>> 160bbc10378bb7177d4fd995a0e4d38e262470b2
   "outputs": [
    {
     "data": {
      "text/plain": "tensor([ 9, 87])"
     },
<<<<<<< HEAD
     "execution_count": 85,
=======
     "execution_count": 19,
>>>>>>> 160bbc10378bb7177d4fd995a0e4d38e262470b2
     "metadata": {},
     "output_type": "execute_result"
    }
   ],
   "source": [
    "vector"
   ],
   "metadata": {
    "collapsed": false
   }
  },
  {
   "cell_type": "code",
<<<<<<< HEAD
   "execution_count": 86,
=======
   "execution_count": 20,
>>>>>>> 160bbc10378bb7177d4fd995a0e4d38e262470b2
   "outputs": [
    {
     "data": {
      "text/plain": "1"
     },
<<<<<<< HEAD
     "execution_count": 86,
=======
     "execution_count": 20,
>>>>>>> 160bbc10378bb7177d4fd995a0e4d38e262470b2
     "metadata": {},
     "output_type": "execute_result"
    }
   ],
   "source": [
    "vector.ndim"
   ],
   "metadata": {
    "collapsed": false
   }
  },
  {
   "cell_type": "code",
<<<<<<< HEAD
   "execution_count": 87,
=======
   "execution_count": 21,
>>>>>>> 160bbc10378bb7177d4fd995a0e4d38e262470b2
   "outputs": [
    {
     "data": {
      "text/plain": "torch.Size([2])"
     },
<<<<<<< HEAD
     "execution_count": 87,
=======
     "execution_count": 21,
>>>>>>> 160bbc10378bb7177d4fd995a0e4d38e262470b2
     "metadata": {},
     "output_type": "execute_result"
    }
   ],
   "source": [
    "vector.shape"
   ],
   "metadata": {
    "collapsed": false
   }
  },
  {
   "cell_type": "code",
<<<<<<< HEAD
   "execution_count": 88,
=======
   "execution_count": 23,
>>>>>>> 160bbc10378bb7177d4fd995a0e4d38e262470b2
   "outputs": [
    {
     "data": {
      "text/plain": "torch.Size([2])"
     },
<<<<<<< HEAD
     "execution_count": 88,
=======
     "execution_count": 23,
>>>>>>> 160bbc10378bb7177d4fd995a0e4d38e262470b2
     "metadata": {},
     "output_type": "execute_result"
    }
   ],
   "source": [
    "vector.size()"
   ],
   "metadata": {
    "collapsed": false
   }
  },
  {
   "cell_type": "code",
<<<<<<< HEAD
   "execution_count": 89,
=======
   "execution_count": 27,
>>>>>>> 160bbc10378bb7177d4fd995a0e4d38e262470b2
   "outputs": [
    {
     "data": {
      "text/plain": "tensor([[ 2,  4],\n        [34, 12],\n        [34, 34]])"
     },
<<<<<<< HEAD
     "execution_count": 89,
=======
     "execution_count": 27,
>>>>>>> 160bbc10378bb7177d4fd995a0e4d38e262470b2
     "metadata": {},
     "output_type": "execute_result"
    }
   ],
   "source": [
    "# MATRIX\n",
    "mat = torch.tensor([[2, 4],\n",
    "                    [34, 12],\n",
    "                    [34, 34]])\n",
    "mat"
   ],
   "metadata": {
    "collapsed": false
   }
  },
  {
   "cell_type": "code",
<<<<<<< HEAD
   "execution_count": 90,
=======
   "execution_count": 28,
>>>>>>> 160bbc10378bb7177d4fd995a0e4d38e262470b2
   "outputs": [
    {
     "data": {
      "text/plain": "torch.Size([3, 2])"
     },
<<<<<<< HEAD
     "execution_count": 90,
=======
     "execution_count": 28,
>>>>>>> 160bbc10378bb7177d4fd995a0e4d38e262470b2
     "metadata": {},
     "output_type": "execute_result"
    }
   ],
   "source": [
    "mat.size()"
   ],
   "metadata": {
    "collapsed": false
   }
  },
  {
   "cell_type": "code",
<<<<<<< HEAD
   "execution_count": 91,
=======
   "execution_count": 29,
>>>>>>> 160bbc10378bb7177d4fd995a0e4d38e262470b2
   "outputs": [
    {
     "data": {
      "text/plain": "2"
     },
<<<<<<< HEAD
     "execution_count": 91,
=======
     "execution_count": 29,
>>>>>>> 160bbc10378bb7177d4fd995a0e4d38e262470b2
     "metadata": {},
     "output_type": "execute_result"
    }
   ],
   "source": [
    "mat.ndim"
   ],
   "metadata": {
    "collapsed": false
   }
  },
  {
   "cell_type": "code",
<<<<<<< HEAD
   "execution_count": 92,
=======
   "execution_count": 30,
>>>>>>> 160bbc10378bb7177d4fd995a0e4d38e262470b2
   "outputs": [
    {
     "data": {
      "text/plain": "tensor([2, 4])"
     },
<<<<<<< HEAD
     "execution_count": 92,
=======
     "execution_count": 30,
>>>>>>> 160bbc10378bb7177d4fd995a0e4d38e262470b2
     "metadata": {},
     "output_type": "execute_result"
    }
   ],
   "source": [
    "mat[0]"
   ],
   "metadata": {
    "collapsed": false
   }
  },
  {
   "cell_type": "code",
<<<<<<< HEAD
   "execution_count": 93,
=======
   "execution_count": 32,
>>>>>>> 160bbc10378bb7177d4fd995a0e4d38e262470b2
   "outputs": [
    {
     "data": {
      "text/plain": "tensor(4)"
     },
<<<<<<< HEAD
     "execution_count": 93,
=======
     "execution_count": 32,
>>>>>>> 160bbc10378bb7177d4fd995a0e4d38e262470b2
     "metadata": {},
     "output_type": "execute_result"
    }
   ],
   "source": [
    "mat[0, 1]"
   ],
   "metadata": {
    "collapsed": false
   }
  },
  {
   "cell_type": "code",
<<<<<<< HEAD
   "execution_count": 94,
=======
   "execution_count": 49,
>>>>>>> 160bbc10378bb7177d4fd995a0e4d38e262470b2
   "outputs": [
    {
     "data": {
      "text/plain": "tensor([[[12, 32],\n         [34, 12],\n         [56, 98],\n         [98, 23]]])"
     },
<<<<<<< HEAD
     "execution_count": 94,
=======
     "execution_count": 49,
>>>>>>> 160bbc10378bb7177d4fd995a0e4d38e262470b2
     "metadata": {},
     "output_type": "execute_result"
    }
   ],
   "source": [
    "# Tensor\n",
    "tensor1 = torch.tensor([[[12, 32],\n",
    "                     [34, 12],\n",
    "                    [56, 98],\n",
    "                    [98, 23]]])\n",
    "tensor1"
   ],
   "metadata": {
    "collapsed": false
   }
  },
  {
   "cell_type": "code",
<<<<<<< HEAD
   "execution_count": 95,
=======
   "execution_count": 50,
>>>>>>> 160bbc10378bb7177d4fd995a0e4d38e262470b2
   "outputs": [
    {
     "data": {
      "text/plain": "torch.Size([1, 4, 2])"
     },
<<<<<<< HEAD
     "execution_count": 95,
=======
     "execution_count": 50,
>>>>>>> 160bbc10378bb7177d4fd995a0e4d38e262470b2
     "metadata": {},
     "output_type": "execute_result"
    }
   ],
   "source": [
    "tensor1.size()"
   ],
   "metadata": {
    "collapsed": false
   }
  },
  {
   "cell_type": "code",
<<<<<<< HEAD
   "execution_count": 96,
=======
   "execution_count": 51,
>>>>>>> 160bbc10378bb7177d4fd995a0e4d38e262470b2
   "outputs": [
    {
     "data": {
      "text/plain": "3"
     },
<<<<<<< HEAD
     "execution_count": 96,
=======
     "execution_count": 51,
>>>>>>> 160bbc10378bb7177d4fd995a0e4d38e262470b2
     "metadata": {},
     "output_type": "execute_result"
    }
   ],
   "source": [
    "tensor1.ndim"
   ],
   "metadata": {
    "collapsed": false
   }
  },
  {
   "cell_type": "code",
<<<<<<< HEAD
   "execution_count": 97,
=======
   "execution_count": 54,
>>>>>>> 160bbc10378bb7177d4fd995a0e4d38e262470b2
   "outputs": [
    {
     "data": {
      "text/plain": "tensor([[[[1, 2],\n          [3, 4]],\n\n         [[5, 6],\n          [7, 8]]],\n\n\n        [[[1, 2],\n          [3, 4]],\n\n         [[5, 6],\n          [7, 8]]]])"
     },
<<<<<<< HEAD
     "execution_count": 97,
=======
     "execution_count": 54,
>>>>>>> 160bbc10378bb7177d4fd995a0e4d38e262470b2
     "metadata": {},
     "output_type": "execute_result"
    }
   ],
   "source": [
    "tensor2 = torch.tensor([[[[1, 2],\n",
    "                          [3, 4]],\n",
    "                        [[5, 6],\n",
    "                         [7, 8]]],\n",
    "                        [[[1, 2],\n",
    "                          [3, 4]],\n",
    "                        [[5, 6],\n",
    "                         [7, 8]]]])\n",
    "tensor2"
   ],
   "metadata": {
    "collapsed": false
   }
  },
  {
   "cell_type": "code",
<<<<<<< HEAD
   "execution_count": 98,
=======
   "execution_count": 56,
>>>>>>> 160bbc10378bb7177d4fd995a0e4d38e262470b2
   "outputs": [
    {
     "data": {
      "text/plain": "torch.Size([2, 2, 2, 2])"
     },
<<<<<<< HEAD
     "execution_count": 98,
=======
     "execution_count": 56,
>>>>>>> 160bbc10378bb7177d4fd995a0e4d38e262470b2
     "metadata": {},
     "output_type": "execute_result"
    }
   ],
   "source": [
    "tensor2.size()"
   ],
   "metadata": {
    "collapsed": false
   }
  },
  {
   "cell_type": "code",
<<<<<<< HEAD
   "execution_count": 99,
=======
   "execution_count": 57,
>>>>>>> 160bbc10378bb7177d4fd995a0e4d38e262470b2
   "outputs": [
    {
     "data": {
      "text/plain": "4"
     },
<<<<<<< HEAD
     "execution_count": 99,
=======
     "execution_count": 57,
>>>>>>> 160bbc10378bb7177d4fd995a0e4d38e262470b2
     "metadata": {},
     "output_type": "execute_result"
    }
   ],
   "source": [
    "tensor2.ndim"
   ],
   "metadata": {
    "collapsed": false
   }
  },
  {
   "cell_type": "markdown",
   "source": [
    "### Random Tensors\n",
    "\n",
    "Random tensors are important because the way many neural networks learn is to start with a tensor full of random values and adjust those initial values to better represent the data"
   ],
   "metadata": {
    "collapsed": false
   }
  },
  {
   "cell_type": "code",
<<<<<<< HEAD
   "execution_count": 100,
=======
   "execution_count": 58,
>>>>>>> 160bbc10378bb7177d4fd995a0e4d38e262470b2
   "outputs": [],
   "source": [
    "RANDOM = torch.rand(3, 4)"
   ],
   "metadata": {
    "collapsed": false
   }
  },
  {
   "cell_type": "code",
<<<<<<< HEAD
   "execution_count": 101,
   "outputs": [
    {
     "data": {
      "text/plain": "tensor([[0.5711, 0.4890, 0.0312, 0.7877],\n        [0.6899, 0.0431, 0.9882, 0.5594],\n        [0.9214, 0.1886, 0.2405, 0.9265]])"
     },
     "execution_count": 101,
=======
   "execution_count": 59,
   "outputs": [
    {
     "data": {
      "text/plain": "tensor([[0.0236, 0.4351, 0.4529, 0.7417],\n        [0.8247, 0.4715, 0.2597, 0.6114],\n        [0.9600, 0.0452, 0.7846, 0.4943]])"
     },
     "execution_count": 59,
>>>>>>> 160bbc10378bb7177d4fd995a0e4d38e262470b2
     "metadata": {},
     "output_type": "execute_result"
    }
   ],
   "source": [
    "RANDOM"
   ],
   "metadata": {
    "collapsed": false
   }
  },
  {
   "cell_type": "code",
<<<<<<< HEAD
   "execution_count": 102,
=======
   "execution_count": 61,
>>>>>>> 160bbc10378bb7177d4fd995a0e4d38e262470b2
   "outputs": [
    {
     "data": {
      "text/plain": "2"
     },
<<<<<<< HEAD
     "execution_count": 102,
=======
     "execution_count": 61,
>>>>>>> 160bbc10378bb7177d4fd995a0e4d38e262470b2
     "metadata": {},
     "output_type": "execute_result"
    }
   ],
   "source": [
    "RANDOM.ndim"
   ],
   "metadata": {
    "collapsed": false
   }
  },
  {
   "cell_type": "code",
<<<<<<< HEAD
   "execution_count": 103,
=======
   "execution_count": 62,
>>>>>>> 160bbc10378bb7177d4fd995a0e4d38e262470b2
   "outputs": [],
   "source": [
    "RANDOM = torch.rand(3, 5, 3, 2)"
   ],
   "metadata": {
    "collapsed": false
   }
  },
  {
   "cell_type": "code",
<<<<<<< HEAD
   "execution_count": 104,
   "outputs": [
    {
     "data": {
      "text/plain": "tensor([[[[0.7305, 0.2241],\n          [0.2268, 0.4343],\n          [0.2293, 0.5268]],\n\n         [[0.4798, 0.7684],\n          [0.3650, 0.8116],\n          [0.4246, 0.5758]],\n\n         [[0.6096, 0.9857],\n          [0.3558, 0.5283],\n          [0.7105, 0.2023]],\n\n         [[0.2197, 0.4392],\n          [0.9533, 0.8391],\n          [0.7338, 0.2851]],\n\n         [[0.0114, 0.1728],\n          [0.0977, 0.4010],\n          [0.2678, 0.4415]]],\n\n\n        [[[0.2350, 0.6550],\n          [0.1964, 0.0238],\n          [0.5232, 0.2891]],\n\n         [[0.6123, 0.5351],\n          [0.4866, 0.8211],\n          [0.0780, 0.0838]],\n\n         [[0.9422, 0.3254],\n          [0.3955, 0.6953],\n          [0.6356, 0.2401]],\n\n         [[0.4266, 0.4835],\n          [0.8927, 0.4643],\n          [0.4653, 0.1584]],\n\n         [[0.2308, 0.7863],\n          [0.5633, 0.1479],\n          [0.7618, 0.1592]]],\n\n\n        [[[0.3089, 0.3015],\n          [0.7782, 0.1634],\n          [0.2843, 0.4146]],\n\n         [[0.0391, 0.8397],\n          [0.3177, 0.0043],\n          [0.6596, 0.0335]],\n\n         [[0.6537, 0.1963],\n          [0.8166, 0.1680],\n          [0.7744, 0.3880]],\n\n         [[0.8307, 0.1637],\n          [0.0744, 0.7927],\n          [0.2386, 0.1702]],\n\n         [[0.5302, 0.8527],\n          [0.6244, 0.8164],\n          [0.1808, 0.9288]]]])"
     },
     "execution_count": 104,
=======
   "execution_count": 63,
   "outputs": [
    {
     "data": {
      "text/plain": "tensor([[[[0.8652, 0.9996],\n          [0.8874, 0.8928],\n          [0.8958, 0.6703]],\n\n         [[0.4691, 0.4252],\n          [0.6189, 0.6108],\n          [0.7296, 0.6768]],\n\n         [[0.1083, 0.9960],\n          [0.8707, 0.5810],\n          [0.8811, 0.6577]],\n\n         [[0.6764, 0.0246],\n          [0.1408, 0.3932],\n          [0.8925, 0.9761]],\n\n         [[0.8334, 0.7127],\n          [0.8976, 0.7271],\n          [0.0352, 0.6585]]],\n\n\n        [[[0.2856, 0.2164],\n          [0.7483, 0.9515],\n          [0.1868, 0.9828]],\n\n         [[0.8804, 0.7366],\n          [0.8868, 0.4760],\n          [0.4055, 0.7161]],\n\n         [[0.0278, 0.2860],\n          [0.6647, 0.4568],\n          [0.0588, 0.9449]],\n\n         [[0.4615, 0.6554],\n          [0.9667, 0.3992],\n          [0.1033, 0.1313]],\n\n         [[0.4374, 0.1282],\n          [0.4969, 0.2843],\n          [0.5544, 0.7888]]],\n\n\n        [[[0.5121, 0.5883],\n          [0.1441, 0.5862],\n          [0.1095, 0.9177]],\n\n         [[0.3600, 0.3306],\n          [0.9608, 0.4053],\n          [0.5139, 0.3886]],\n\n         [[0.3935, 0.2418],\n          [0.7859, 0.3424],\n          [0.7306, 0.2312]],\n\n         [[0.8523, 0.2289],\n          [0.1926, 0.4377],\n          [0.3176, 0.9627]],\n\n         [[0.4895, 0.5803],\n          [0.0431, 0.3910],\n          [0.4382, 0.9761]]]])"
     },
     "execution_count": 63,
>>>>>>> 160bbc10378bb7177d4fd995a0e4d38e262470b2
     "metadata": {},
     "output_type": "execute_result"
    }
   ],
   "source": [
    "RANDOM"
   ],
   "metadata": {
    "collapsed": false
   }
  },
  {
   "cell_type": "code",
<<<<<<< HEAD
   "execution_count": 105,
=======
   "execution_count": 64,
>>>>>>> 160bbc10378bb7177d4fd995a0e4d38e262470b2
   "outputs": [
    {
     "data": {
      "text/plain": "torch.Size([3, 5, 3, 2])"
     },
<<<<<<< HEAD
     "execution_count": 105,
=======
     "execution_count": 64,
>>>>>>> 160bbc10378bb7177d4fd995a0e4d38e262470b2
     "metadata": {},
     "output_type": "execute_result"
    }
   ],
   "source": [
    "RANDOM.size()"
   ],
   "metadata": {
    "collapsed": false
   }
  },
  {
   "cell_type": "code",
<<<<<<< HEAD
   "execution_count": 106,
=======
   "execution_count": 65,
>>>>>>> 160bbc10378bb7177d4fd995a0e4d38e262470b2
   "outputs": [
    {
     "data": {
      "text/plain": "4"
     },
<<<<<<< HEAD
     "execution_count": 106,
=======
     "execution_count": 65,
>>>>>>> 160bbc10378bb7177d4fd995a0e4d38e262470b2
     "metadata": {},
     "output_type": "execute_result"
    }
   ],
   "source": [
    "RANDOM.ndim"
   ],
   "metadata": {
    "collapsed": false
   }
  },
  {
   "cell_type": "code",
<<<<<<< HEAD
   "execution_count": 107,
   "outputs": [],
   "source": [
    "IMG = torch.rand(size=(224, 224, 3)) # width, height, color channels"
=======
   "execution_count": 66,
   "outputs": [],
   "source": [
    "IMG = torch.rand(size=(224, 224, 3))"
>>>>>>> 160bbc10378bb7177d4fd995a0e4d38e262470b2
   ],
   "metadata": {
    "collapsed": false
   }
  },
  {
   "cell_type": "code",
<<<<<<< HEAD
   "execution_count": 108,
   "outputs": [
    {
     "data": {
      "text/plain": "tensor([[[0.6720, 0.8787, 0.7040],\n         [0.6963, 0.6803, 0.8786],\n         [0.8347, 0.9454, 0.2948],\n         ...,\n         [0.9102, 0.0550, 0.5906],\n         [0.6706, 0.0027, 0.5889],\n         [0.2226, 0.2835, 0.5806]],\n\n        [[0.9085, 0.6305, 0.1715],\n         [0.6710, 0.8909, 0.5424],\n         [0.1103, 0.8279, 0.3877],\n         ...,\n         [0.0469, 0.8038, 0.5629],\n         [0.1222, 0.1886, 0.7698],\n         [0.2230, 0.9418, 0.9609]],\n\n        [[0.3293, 0.6564, 0.4510],\n         [0.4243, 0.5132, 0.6735],\n         [0.2236, 0.6743, 0.0724],\n         ...,\n         [0.7306, 0.2323, 0.3728],\n         [0.1642, 0.4530, 0.2244],\n         [0.6518, 0.1735, 0.9178]],\n\n        ...,\n\n        [[0.7113, 0.5076, 0.6036],\n         [0.7194, 0.3417, 0.4529],\n         [0.2862, 0.5556, 0.2877],\n         ...,\n         [0.8980, 0.5622, 0.4722],\n         [0.1976, 0.5253, 0.2845],\n         [0.9014, 0.5767, 0.5026]],\n\n        [[0.3003, 0.0882, 0.0214],\n         [0.4821, 0.6127, 0.6256],\n         [0.0675, 0.9468, 0.4910],\n         ...,\n         [0.2240, 0.4026, 0.5702],\n         [0.3252, 0.6690, 0.0545],\n         [0.5734, 0.0746, 0.9748]],\n\n        [[0.5185, 0.2493, 0.1209],\n         [0.5588, 0.6767, 0.1069],\n         [0.6370, 0.5326, 0.6816],\n         ...,\n         [0.9087, 0.9232, 0.7678],\n         [0.9574, 0.7567, 0.6721],\n         [0.8154, 0.5712, 0.7436]]])"
     },
     "execution_count": 108,
=======
   "execution_count": 67,
   "outputs": [
    {
     "data": {
      "text/plain": "tensor([[[0.2231, 0.8902, 0.1490],\n         [0.5322, 0.5966, 0.0445],\n         [0.0319, 0.0191, 0.5291],\n         ...,\n         [0.1355, 0.8370, 0.0905],\n         [0.4172, 0.0954, 0.9776],\n         [0.2268, 0.4674, 0.3733]],\n\n        [[0.8949, 0.2967, 0.6087],\n         [0.2735, 0.6404, 0.1013],\n         [0.0465, 0.3265, 0.2249],\n         ...,\n         [0.6174, 0.5624, 0.9369],\n         [0.2097, 0.3713, 0.0093],\n         [0.8461, 0.6946, 0.4741]],\n\n        [[0.6751, 0.3556, 0.3992],\n         [0.7853, 0.8068, 0.7020],\n         [0.8227, 0.1782, 0.4245],\n         ...,\n         [0.6335, 0.6765, 0.7530],\n         [0.5996, 0.9096, 0.4221],\n         [0.3122, 0.2110, 0.6233]],\n\n        ...,\n\n        [[0.1400, 0.3558, 0.4320],\n         [0.2702, 0.4899, 0.2504],\n         [0.5053, 0.9419, 0.8247],\n         ...,\n         [0.7421, 0.7153, 0.6275],\n         [0.4149, 0.3152, 0.9107],\n         [0.1727, 0.2737, 0.3095]],\n\n        [[0.7169, 0.9205, 0.3935],\n         [0.6554, 0.8001, 0.6209],\n         [0.3774, 0.9292, 0.8338],\n         ...,\n         [0.9044, 0.8456, 0.9365],\n         [0.7262, 0.0407, 0.1148],\n         [0.8188, 0.1210, 0.5080]],\n\n        [[0.0860, 0.0413, 0.4007],\n         [0.8739, 0.4325, 0.4672],\n         [0.8840, 0.8645, 0.7518],\n         ...,\n         [0.0479, 0.5343, 0.4996],\n         [0.4633, 0.5385, 0.1709],\n         [0.3592, 0.6318, 0.8419]]])"
     },
     "execution_count": 67,
>>>>>>> 160bbc10378bb7177d4fd995a0e4d38e262470b2
     "metadata": {},
     "output_type": "execute_result"
    }
   ],
   "source": [
    "IMG"
   ],
   "metadata": {
    "collapsed": false
   }
  },
  {
   "cell_type": "code",
<<<<<<< HEAD
   "execution_count": 109,
=======
   "execution_count": 68,
>>>>>>> 160bbc10378bb7177d4fd995a0e4d38e262470b2
   "outputs": [
    {
     "data": {
      "text/plain": "torch.Size([224, 224, 3])"
     },
<<<<<<< HEAD
     "execution_count": 109,
=======
     "execution_count": 68,
>>>>>>> 160bbc10378bb7177d4fd995a0e4d38e262470b2
     "metadata": {},
     "output_type": "execute_result"
    }
   ],
   "source": [
    "IMG.size()"
   ],
   "metadata": {
    "collapsed": false
   }
  },
  {
   "cell_type": "code",
<<<<<<< HEAD
   "execution_count": 110,
=======
   "execution_count": 69,
>>>>>>> 160bbc10378bb7177d4fd995a0e4d38e262470b2
   "outputs": [
    {
     "data": {
      "text/plain": "3"
     },
<<<<<<< HEAD
     "execution_count": 110,
=======
     "execution_count": 69,
>>>>>>> 160bbc10378bb7177d4fd995a0e4d38e262470b2
     "metadata": {},
     "output_type": "execute_result"
    }
   ],
   "source": [
    "IMG.ndim"
   ],
   "metadata": {
    "collapsed": false
   }
  },
  {
   "cell_type": "markdown",
   "source": [
    "### Zeros and Ones"
   ],
   "metadata": {
    "collapsed": false
   }
  },
  {
   "cell_type": "code",
<<<<<<< HEAD
   "execution_count": 111,
=======
   "execution_count": 72,
>>>>>>> 160bbc10378bb7177d4fd995a0e4d38e262470b2
   "outputs": [],
   "source": [
    "ZERO = torch.zeros(size=(23, 12, 3))"
   ],
   "metadata": {
    "collapsed": false
   }
  },
  {
   "cell_type": "code",
<<<<<<< HEAD
   "execution_count": 112,
=======
   "execution_count": 73,
>>>>>>> 160bbc10378bb7177d4fd995a0e4d38e262470b2
   "outputs": [
    {
     "data": {
      "text/plain": "tensor([[[0., 0., 0.],\n         [0., 0., 0.],\n         [0., 0., 0.],\n         [0., 0., 0.],\n         [0., 0., 0.],\n         [0., 0., 0.],\n         [0., 0., 0.],\n         [0., 0., 0.],\n         [0., 0., 0.],\n         [0., 0., 0.],\n         [0., 0., 0.],\n         [0., 0., 0.]],\n\n        [[0., 0., 0.],\n         [0., 0., 0.],\n         [0., 0., 0.],\n         [0., 0., 0.],\n         [0., 0., 0.],\n         [0., 0., 0.],\n         [0., 0., 0.],\n         [0., 0., 0.],\n         [0., 0., 0.],\n         [0., 0., 0.],\n         [0., 0., 0.],\n         [0., 0., 0.]],\n\n        [[0., 0., 0.],\n         [0., 0., 0.],\n         [0., 0., 0.],\n         [0., 0., 0.],\n         [0., 0., 0.],\n         [0., 0., 0.],\n         [0., 0., 0.],\n         [0., 0., 0.],\n         [0., 0., 0.],\n         [0., 0., 0.],\n         [0., 0., 0.],\n         [0., 0., 0.]],\n\n        [[0., 0., 0.],\n         [0., 0., 0.],\n         [0., 0., 0.],\n         [0., 0., 0.],\n         [0., 0., 0.],\n         [0., 0., 0.],\n         [0., 0., 0.],\n         [0., 0., 0.],\n         [0., 0., 0.],\n         [0., 0., 0.],\n         [0., 0., 0.],\n         [0., 0., 0.]],\n\n        [[0., 0., 0.],\n         [0., 0., 0.],\n         [0., 0., 0.],\n         [0., 0., 0.],\n         [0., 0., 0.],\n         [0., 0., 0.],\n         [0., 0., 0.],\n         [0., 0., 0.],\n         [0., 0., 0.],\n         [0., 0., 0.],\n         [0., 0., 0.],\n         [0., 0., 0.]],\n\n        [[0., 0., 0.],\n         [0., 0., 0.],\n         [0., 0., 0.],\n         [0., 0., 0.],\n         [0., 0., 0.],\n         [0., 0., 0.],\n         [0., 0., 0.],\n         [0., 0., 0.],\n         [0., 0., 0.],\n         [0., 0., 0.],\n         [0., 0., 0.],\n         [0., 0., 0.]],\n\n        [[0., 0., 0.],\n         [0., 0., 0.],\n         [0., 0., 0.],\n         [0., 0., 0.],\n         [0., 0., 0.],\n         [0., 0., 0.],\n         [0., 0., 0.],\n         [0., 0., 0.],\n         [0., 0., 0.],\n         [0., 0., 0.],\n         [0., 0., 0.],\n         [0., 0., 0.]],\n\n        [[0., 0., 0.],\n         [0., 0., 0.],\n         [0., 0., 0.],\n         [0., 0., 0.],\n         [0., 0., 0.],\n         [0., 0., 0.],\n         [0., 0., 0.],\n         [0., 0., 0.],\n         [0., 0., 0.],\n         [0., 0., 0.],\n         [0., 0., 0.],\n         [0., 0., 0.]],\n\n        [[0., 0., 0.],\n         [0., 0., 0.],\n         [0., 0., 0.],\n         [0., 0., 0.],\n         [0., 0., 0.],\n         [0., 0., 0.],\n         [0., 0., 0.],\n         [0., 0., 0.],\n         [0., 0., 0.],\n         [0., 0., 0.],\n         [0., 0., 0.],\n         [0., 0., 0.]],\n\n        [[0., 0., 0.],\n         [0., 0., 0.],\n         [0., 0., 0.],\n         [0., 0., 0.],\n         [0., 0., 0.],\n         [0., 0., 0.],\n         [0., 0., 0.],\n         [0., 0., 0.],\n         [0., 0., 0.],\n         [0., 0., 0.],\n         [0., 0., 0.],\n         [0., 0., 0.]],\n\n        [[0., 0., 0.],\n         [0., 0., 0.],\n         [0., 0., 0.],\n         [0., 0., 0.],\n         [0., 0., 0.],\n         [0., 0., 0.],\n         [0., 0., 0.],\n         [0., 0., 0.],\n         [0., 0., 0.],\n         [0., 0., 0.],\n         [0., 0., 0.],\n         [0., 0., 0.]],\n\n        [[0., 0., 0.],\n         [0., 0., 0.],\n         [0., 0., 0.],\n         [0., 0., 0.],\n         [0., 0., 0.],\n         [0., 0., 0.],\n         [0., 0., 0.],\n         [0., 0., 0.],\n         [0., 0., 0.],\n         [0., 0., 0.],\n         [0., 0., 0.],\n         [0., 0., 0.]],\n\n        [[0., 0., 0.],\n         [0., 0., 0.],\n         [0., 0., 0.],\n         [0., 0., 0.],\n         [0., 0., 0.],\n         [0., 0., 0.],\n         [0., 0., 0.],\n         [0., 0., 0.],\n         [0., 0., 0.],\n         [0., 0., 0.],\n         [0., 0., 0.],\n         [0., 0., 0.]],\n\n        [[0., 0., 0.],\n         [0., 0., 0.],\n         [0., 0., 0.],\n         [0., 0., 0.],\n         [0., 0., 0.],\n         [0., 0., 0.],\n         [0., 0., 0.],\n         [0., 0., 0.],\n         [0., 0., 0.],\n         [0., 0., 0.],\n         [0., 0., 0.],\n         [0., 0., 0.]],\n\n        [[0., 0., 0.],\n         [0., 0., 0.],\n         [0., 0., 0.],\n         [0., 0., 0.],\n         [0., 0., 0.],\n         [0., 0., 0.],\n         [0., 0., 0.],\n         [0., 0., 0.],\n         [0., 0., 0.],\n         [0., 0., 0.],\n         [0., 0., 0.],\n         [0., 0., 0.]],\n\n        [[0., 0., 0.],\n         [0., 0., 0.],\n         [0., 0., 0.],\n         [0., 0., 0.],\n         [0., 0., 0.],\n         [0., 0., 0.],\n         [0., 0., 0.],\n         [0., 0., 0.],\n         [0., 0., 0.],\n         [0., 0., 0.],\n         [0., 0., 0.],\n         [0., 0., 0.]],\n\n        [[0., 0., 0.],\n         [0., 0., 0.],\n         [0., 0., 0.],\n         [0., 0., 0.],\n         [0., 0., 0.],\n         [0., 0., 0.],\n         [0., 0., 0.],\n         [0., 0., 0.],\n         [0., 0., 0.],\n         [0., 0., 0.],\n         [0., 0., 0.],\n         [0., 0., 0.]],\n\n        [[0., 0., 0.],\n         [0., 0., 0.],\n         [0., 0., 0.],\n         [0., 0., 0.],\n         [0., 0., 0.],\n         [0., 0., 0.],\n         [0., 0., 0.],\n         [0., 0., 0.],\n         [0., 0., 0.],\n         [0., 0., 0.],\n         [0., 0., 0.],\n         [0., 0., 0.]],\n\n        [[0., 0., 0.],\n         [0., 0., 0.],\n         [0., 0., 0.],\n         [0., 0., 0.],\n         [0., 0., 0.],\n         [0., 0., 0.],\n         [0., 0., 0.],\n         [0., 0., 0.],\n         [0., 0., 0.],\n         [0., 0., 0.],\n         [0., 0., 0.],\n         [0., 0., 0.]],\n\n        [[0., 0., 0.],\n         [0., 0., 0.],\n         [0., 0., 0.],\n         [0., 0., 0.],\n         [0., 0., 0.],\n         [0., 0., 0.],\n         [0., 0., 0.],\n         [0., 0., 0.],\n         [0., 0., 0.],\n         [0., 0., 0.],\n         [0., 0., 0.],\n         [0., 0., 0.]],\n\n        [[0., 0., 0.],\n         [0., 0., 0.],\n         [0., 0., 0.],\n         [0., 0., 0.],\n         [0., 0., 0.],\n         [0., 0., 0.],\n         [0., 0., 0.],\n         [0., 0., 0.],\n         [0., 0., 0.],\n         [0., 0., 0.],\n         [0., 0., 0.],\n         [0., 0., 0.]],\n\n        [[0., 0., 0.],\n         [0., 0., 0.],\n         [0., 0., 0.],\n         [0., 0., 0.],\n         [0., 0., 0.],\n         [0., 0., 0.],\n         [0., 0., 0.],\n         [0., 0., 0.],\n         [0., 0., 0.],\n         [0., 0., 0.],\n         [0., 0., 0.],\n         [0., 0., 0.]],\n\n        [[0., 0., 0.],\n         [0., 0., 0.],\n         [0., 0., 0.],\n         [0., 0., 0.],\n         [0., 0., 0.],\n         [0., 0., 0.],\n         [0., 0., 0.],\n         [0., 0., 0.],\n         [0., 0., 0.],\n         [0., 0., 0.],\n         [0., 0., 0.],\n         [0., 0., 0.]]])"
     },
<<<<<<< HEAD
     "execution_count": 112,
=======
     "execution_count": 73,
>>>>>>> 160bbc10378bb7177d4fd995a0e4d38e262470b2
     "metadata": {},
     "output_type": "execute_result"
    }
   ],
   "source": [
    "ZERO"
   ],
   "metadata": {
    "collapsed": false
   }
  },
  {
   "cell_type": "code",
<<<<<<< HEAD
   "execution_count": 113,
=======
   "execution_count": 74,
>>>>>>> 160bbc10378bb7177d4fd995a0e4d38e262470b2
   "outputs": [
    {
     "data": {
      "text/plain": "3"
     },
<<<<<<< HEAD
     "execution_count": 113,
=======
     "execution_count": 74,
>>>>>>> 160bbc10378bb7177d4fd995a0e4d38e262470b2
     "metadata": {},
     "output_type": "execute_result"
    }
   ],
   "source": [
    "ZERO.ndim"
   ],
   "metadata": {
    "collapsed": false
   }
  },
  {
   "cell_type": "code",
<<<<<<< HEAD
   "execution_count": 114,
=======
   "execution_count": 75,
>>>>>>> 160bbc10378bb7177d4fd995a0e4d38e262470b2
   "outputs": [],
   "source": [
    "ONES = torch.ones(size=(2, 1, 2))"
   ],
   "metadata": {
    "collapsed": false
   }
  },
  {
   "cell_type": "code",
<<<<<<< HEAD
   "execution_count": 115,
=======
   "execution_count": 76,
>>>>>>> 160bbc10378bb7177d4fd995a0e4d38e262470b2
   "outputs": [
    {
     "data": {
      "text/plain": "tensor([[[1., 1.]],\n\n        [[1., 1.]]])"
     },
<<<<<<< HEAD
     "execution_count": 115,
=======
     "execution_count": 76,
>>>>>>> 160bbc10378bb7177d4fd995a0e4d38e262470b2
     "metadata": {},
     "output_type": "execute_result"
    }
   ],
   "source": [
    "ONES"
   ],
   "metadata": {
    "collapsed": false
   }
  },
  {
   "cell_type": "code",
<<<<<<< HEAD
   "execution_count": 116,
=======
   "execution_count": 77,
>>>>>>> 160bbc10378bb7177d4fd995a0e4d38e262470b2
   "outputs": [
    {
     "data": {
      "text/plain": "3"
     },
<<<<<<< HEAD
     "execution_count": 116,
=======
     "execution_count": 77,
>>>>>>> 160bbc10378bb7177d4fd995a0e4d38e262470b2
     "metadata": {},
     "output_type": "execute_result"
    }
   ],
   "source": [
    "ONES.ndim"
   ],
   "metadata": {
    "collapsed": false
   }
  },
  {
   "cell_type": "markdown",
   "source": [
    "### Range of Tensors and Tensors Like"
   ],
   "metadata": {
    "collapsed": false
   }
  },
  {
   "cell_type": "code",
<<<<<<< HEAD
   "execution_count": 117,
=======
   "execution_count": 78,
>>>>>>> 160bbc10378bb7177d4fd995a0e4d38e262470b2
   "outputs": [
    {
     "name": "stderr",
     "output_type": "stream",
     "text": [
<<<<<<< HEAD
      "C:\\Users\\Shabnam\\AppData\\Local\\Temp\\ipykernel_15064\\3108966158.py:2: UserWarning: torch.range is deprecated and will be removed in a future release because its behavior is inconsistent with Python's range builtin. Instead, use torch.arange, which produces values in [start, end).\n",
=======
      "C:\\Users\\Shabnam\\AppData\\Local\\Temp\\ipykernel_12336\\2203669239.py:2: UserWarning: torch.range is deprecated and will be removed in a future release because its behavior is inconsistent with Python's range builtin. Instead, use torch.arange, which produces values in [start, end).\n",
>>>>>>> 160bbc10378bb7177d4fd995a0e4d38e262470b2
      "  torch.range(5, 10)\n"
     ]
    },
    {
     "data": {
      "text/plain": "tensor([ 5.,  6.,  7.,  8.,  9., 10.])"
     },
<<<<<<< HEAD
     "execution_count": 117,
=======
     "execution_count": 78,
>>>>>>> 160bbc10378bb7177d4fd995a0e4d38e262470b2
     "metadata": {},
     "output_type": "execute_result"
    }
   ],
   "source": [
    "# Use torch.range()\n",
    "torch.range(5, 10)"
   ],
   "metadata": {
    "collapsed": false
   }
  },
  {
   "cell_type": "code",
<<<<<<< HEAD
   "execution_count": 118,
=======
   "execution_count": 80,
>>>>>>> 160bbc10378bb7177d4fd995a0e4d38e262470b2
   "outputs": [
    {
     "data": {
      "text/plain": "tensor([ 3,  5,  7,  9, 11, 13, 15, 17, 19, 21, 23, 25, 27, 29, 31, 33, 35, 37,\n        39, 41, 43, 45, 47, 49, 51, 53, 55, 57, 59, 61, 63, 65, 67, 69, 71, 73,\n        75, 77, 79, 81, 83, 85, 87, 89, 91, 93, 95, 97, 99])"
     },
<<<<<<< HEAD
     "execution_count": 118,
=======
     "execution_count": 80,
>>>>>>> 160bbc10378bb7177d4fd995a0e4d38e262470b2
     "metadata": {},
     "output_type": "execute_result"
    }
   ],
   "source": [
    "torch.arange(start=3, end=100, step=2)"
   ],
   "metadata": {
    "collapsed": false
   }
  },
  {
   "cell_type": "code",
<<<<<<< HEAD
   "execution_count": 119,
   "outputs": [
    {
     "data": {
      "text/plain": "tensor([0.4338, 0.4531, 0.3911, 0.8469, 0.2691, 0.7034, 0.6459, 0.6605, 0.4840,\n        0.7465, 0.6140, 0.1311, 0.9556, 0.7750, 0.5899, 0.6950, 0.3287, 0.3336,\n        0.1200, 0.8389, 0.8879, 0.7846, 0.2927, 0.8714, 0.0078, 0.6924, 0.9261,\n        0.0453, 0.5994, 0.6216, 0.8357, 0.7412, 0.9548, 0.8267, 0.9672, 0.4810,\n        0.6046, 0.6214, 0.6377, 0.0655, 0.2178, 0.4654, 0.4821, 0.7744, 0.0406,\n        0.5055, 0.0420, 0.7091, 0.4044, 0.1564, 0.5634, 0.1142, 0.7514])"
     },
     "execution_count": 119,
=======
   "execution_count": 88,
   "outputs": [
    {
     "data": {
      "text/plain": "tensor([0.8735, 0.2740, 0.0392, 0.4047, 0.7082, 0.8675, 0.0562, 0.6960, 0.4600,\n        0.1400, 0.2150, 0.1672, 0.3896, 0.4747, 0.5591, 0.8863, 0.4060, 0.8629,\n        0.3440, 0.1734, 0.8674, 0.2928, 0.7231, 0.0371, 0.8913, 0.6012, 0.5994,\n        0.0427, 0.9785, 0.0660, 0.5332, 0.5301, 0.5090, 0.2396, 0.9688, 0.1214,\n        0.3289, 0.8991, 0.6250, 0.5554, 0.7729, 0.6402, 0.2221, 0.4417, 0.7245,\n        0.6135, 0.1719, 0.3637, 0.0938, 0.1973, 0.2905, 0.7650, 0.5356])"
     },
     "execution_count": 88,
>>>>>>> 160bbc10378bb7177d4fd995a0e4d38e262470b2
     "metadata": {},
     "output_type": "execute_result"
    }
   ],
   "source": [
    "# Tensors Like\n",
    "RNG = torch.arange(start=7, end=1000, step=19, dtype=torch.float32)\n",
    "torch.rand_like(input=RNG, dtype=torch.float32)"
   ],
   "metadata": {
    "collapsed": false
   }
  },
  {
   "cell_type": "markdown",
   "source": [
    "### Tensor Datatypes"
   ],
   "metadata": {
    "collapsed": false
   }
  },
  {
   "cell_type": "code",
<<<<<<< HEAD
   "execution_count": 120,
=======
   "execution_count": 91,
>>>>>>> 160bbc10378bb7177d4fd995a0e4d38e262470b2
   "outputs": [],
   "source": [
    "FLOAT = torch.tensor([4, 2, 13],\n",
    "                     dtype=torch.float64,\n",
    "                     device=\"cpu\", # What device is your tensor on\n",
    "                     requires_grad=False) # Whether to track gradients"
   ],
   "metadata": {
    "collapsed": false
   }
  },
  {
   "cell_type": "code",
<<<<<<< HEAD
   "execution_count": 121,
=======
   "execution_count": 92,
>>>>>>> 160bbc10378bb7177d4fd995a0e4d38e262470b2
   "outputs": [
    {
     "data": {
      "text/plain": "tensor([ 4.,  2., 13.], dtype=torch.float64)"
     },
<<<<<<< HEAD
     "execution_count": 121,
=======
     "execution_count": 92,
>>>>>>> 160bbc10378bb7177d4fd995a0e4d38e262470b2
     "metadata": {},
     "output_type": "execute_result"
    }
   ],
   "source": [
    "FLOAT"
   ],
   "metadata": {
    "collapsed": false
   }
  },
  {
   "cell_type": "code",
<<<<<<< HEAD
   "execution_count": 122,
=======
   "execution_count": 93,
>>>>>>> 160bbc10378bb7177d4fd995a0e4d38e262470b2
   "outputs": [],
   "source": [
    "RAND1 = torch.rand(size=(2, 3, 5),\n",
    "                   dtype=torch.float16)"
   ],
   "metadata": {
    "collapsed": false
   }
  },
  {
   "cell_type": "code",
<<<<<<< HEAD
   "execution_count": 123,
=======
   "execution_count": 94,
>>>>>>> 160bbc10378bb7177d4fd995a0e4d38e262470b2
   "outputs": [],
   "source": [
    "RAND2 = torch.rand(size=(2, 3, 5),\n",
    "                   dtype=torch.float32)"
   ],
   "metadata": {
    "collapsed": false
   }
  },
  {
   "cell_type": "code",
<<<<<<< HEAD
   "execution_count": 124,
   "outputs": [],
   "source": [
    "MULT = RAND1 * RAND2"
   ],
   "metadata": {
    "collapsed": false
   }
  },
  {
   "cell_type": "code",
   "execution_count": 125,
   "outputs": [
    {
     "data": {
      "text/plain": "torch.float32"
     },
     "execution_count": 125,
=======
   "execution_count": 95,
   "outputs": [
    {
     "data": {
      "text/plain": "tensor([[[0.4358, 0.3142, 0.7957, 0.7005, 0.0548],\n         [0.1144, 0.0806, 0.3069, 0.1176, 0.1465],\n         [0.2201, 0.1592, 0.8226, 0.3218, 0.2228]],\n\n        [[0.4190, 0.0019, 0.7872, 0.0668, 0.0675],\n         [0.0796, 0.3481, 0.1667, 0.0061, 0.2772],\n         [0.1461, 0.0480, 0.1141, 0.0663, 0.1213]]])"
     },
     "execution_count": 95,
>>>>>>> 160bbc10378bb7177d4fd995a0e4d38e262470b2
     "metadata": {},
     "output_type": "execute_result"
    }
   ],
   "source": [
<<<<<<< HEAD
    "MULT.dtype"
   ],
   "metadata": {
    "collapsed": false
   }
  },
  {
   "cell_type": "code",
   "execution_count": 126,
   "outputs": [],
   "source": [
    "ADD = RAND1 + RAND2"
   ],
   "metadata": {
    "collapsed": false
   }
  },
  {
   "cell_type": "code",
   "execution_count": 127,
   "outputs": [
    {
     "data": {
      "text/plain": "torch.float32"
     },
     "execution_count": 127,
     "metadata": {},
     "output_type": "execute_result"
    }
   ],
   "source": [
    "ADD.dtype"
   ],
   "metadata": {
    "collapsed": false
   }
  },
  {
   "cell_type": "code",
   "execution_count": 128,
   "outputs": [],
   "source": [
    "INT32 = torch.tensor([1, 2, 3, 98, 98989],\n",
    "                     dtype=torch.int32)"
   ],
   "metadata": {
    "collapsed": false
   }
  },
  {
   "cell_type": "code",
   "execution_count": 129,
   "outputs": [],
   "source": [
    "FLOAT64 = torch.tensor([2, 1, 5, 34, 98],\n",
    "                       dtype=torch.float64)"
   ],
   "metadata": {
    "collapsed": false
   }
  },
  {
   "cell_type": "code",
   "execution_count": 130,
   "outputs": [],
   "source": [
    "INT_FLOAT = INT32 * FLOAT64"
   ],
   "metadata": {
    "collapsed": false
   }
  },
  {
   "cell_type": "code",
   "execution_count": 131,
   "outputs": [
    {
     "data": {
      "text/plain": "torch.float64"
     },
     "execution_count": 131,
     "metadata": {},
     "output_type": "execute_result"
    }
   ],
   "source": [
    "INT_FLOAT.dtype"
=======
    "RAND1 * RAND2"
>>>>>>> 160bbc10378bb7177d4fd995a0e4d38e262470b2
   ],
   "metadata": {
    "collapsed": false
   }
  },
  {
   "cell_type": "markdown",
   "source": [
    "### Getting information about tensors"
   ],
   "metadata": {
    "collapsed": false
   }
  },
  {
   "cell_type": "markdown",
   "source": [
    "**Note:** There are 3 big errors that we'll probably run into with PyTorch:\n",
    "1. Tensors not right datatype\n",
    "2. Tensors not right shape\n",
    "3. Tensors not on the right device"
   ],
   "metadata": {
    "collapsed": false
   }
  },
  {
   "cell_type": "code",
<<<<<<< HEAD
   "execution_count": 132,
=======
   "execution_count": 96,
>>>>>>> 160bbc10378bb7177d4fd995a0e4d38e262470b2
   "outputs": [
    {
     "data": {
      "text/plain": "torch.Size([224, 224, 3])"
     },
<<<<<<< HEAD
     "execution_count": 132,
=======
     "execution_count": 96,
>>>>>>> 160bbc10378bb7177d4fd995a0e4d38e262470b2
     "metadata": {},
     "output_type": "execute_result"
    }
   ],
   "source": [
    "IMG.shape"
   ],
   "metadata": {
    "collapsed": false
   }
  },
  {
   "cell_type": "code",
<<<<<<< HEAD
   "execution_count": 133,
=======
   "execution_count": 97,
>>>>>>> 160bbc10378bb7177d4fd995a0e4d38e262470b2
   "outputs": [
    {
     "data": {
      "text/plain": "torch.float32"
     },
<<<<<<< HEAD
     "execution_count": 133,
=======
     "execution_count": 97,
>>>>>>> 160bbc10378bb7177d4fd995a0e4d38e262470b2
     "metadata": {},
     "output_type": "execute_result"
    }
   ],
   "source": [
    "IMG.dtype"
   ],
   "metadata": {
    "collapsed": false
   }
  },
  {
   "cell_type": "code",
<<<<<<< HEAD
   "execution_count": 134,
=======
   "execution_count": 98,
>>>>>>> 160bbc10378bb7177d4fd995a0e4d38e262470b2
   "outputs": [
    {
     "data": {
      "text/plain": "device(type='cpu')"
     },
<<<<<<< HEAD
     "execution_count": 134,
=======
     "execution_count": 98,
>>>>>>> 160bbc10378bb7177d4fd995a0e4d38e262470b2
     "metadata": {},
     "output_type": "execute_result"
    }
   ],
   "source": [
    "IMG.device"
   ],
   "metadata": {
    "collapsed": false
   }
  },
  {
   "cell_type": "code",
<<<<<<< HEAD
   "execution_count": 135,
=======
   "execution_count": 99,
>>>>>>> 160bbc10378bb7177d4fd995a0e4d38e262470b2
   "outputs": [
    {
     "data": {
      "text/plain": "torch.Size([224, 224, 3])"
     },
<<<<<<< HEAD
     "execution_count": 135,
=======
     "execution_count": 99,
>>>>>>> 160bbc10378bb7177d4fd995a0e4d38e262470b2
     "metadata": {},
     "output_type": "execute_result"
    }
   ],
   "source": [
    "IMG.size()"
   ],
   "metadata": {
    "collapsed": false
   }
  },
  {
   "cell_type": "markdown",
   "source": [
    "### Tensor Operations(Manipulation)\n",
    "\n",
    "Operations include:\n",
    "- Addition\n",
    "- Subtraction\n",
    "- Multiplication (element-wise)\n",
    "- Division\n",
<<<<<<< HEAD
    "- Matrix Multiplication / Dot product"
=======
    "- Matrix Multiplication"
>>>>>>> 160bbc10378bb7177d4fd995a0e4d38e262470b2
   ],
   "metadata": {
    "collapsed": false
   }
  },
  {
   "cell_type": "code",
<<<<<<< HEAD
   "execution_count": 136,
   "outputs": [],
   "source": [
    "TENS1 = torch.rand([255, 255], dtype=torch.float32)"
=======
   "execution_count": 100,
   "outputs": [],
   "source": [
    "TENS1 = torch.rand([255, 255, 3], dtype=torch.float32)"
>>>>>>> 160bbc10378bb7177d4fd995a0e4d38e262470b2
   ],
   "metadata": {
    "collapsed": false
   }
  },
  {
   "cell_type": "code",
<<<<<<< HEAD
   "execution_count": 137,
=======
   "execution_count": 101,
>>>>>>> 160bbc10378bb7177d4fd995a0e4d38e262470b2
   "outputs": [],
   "source": [
    "TENS2 = torch.rand_like(input=TENS1, dtype=torch.float32)"
   ],
   "metadata": {
    "collapsed": false
   }
  },
  {
   "cell_type": "code",
<<<<<<< HEAD
   "execution_count": 138,
   "outputs": [
    {
     "data": {
      "text/plain": "torch.Size([255, 255])"
     },
     "execution_count": 138,
     "metadata": {},
     "output_type": "execute_result"
    }
   ],
   "source": [
    "TENS1.shape"
   ],
   "metadata": {
    "collapsed": false
   }
  },
  {
   "cell_type": "code",
   "execution_count": 139,
   "outputs": [
    {
     "data": {
      "text/plain": "torch.Size([255, 255])"
     },
     "execution_count": 139,
     "metadata": {},
     "output_type": "execute_result"
    }
   ],
   "source": [
    "TENS2.shape"
   ],
   "metadata": {
    "collapsed": false
   }
  },
  {
   "cell_type": "code",
   "execution_count": 140,
   "outputs": [
    {
     "data": {
      "text/plain": "tensor([[0.2571, 0.1489, 0.6590,  ..., 0.3768, 0.3311, 0.0030],\n        [0.2807, 0.1123, 0.0051,  ..., 0.4438, 0.6973, 0.8858],\n        [0.8208, 0.2259, 0.5495,  ..., 0.3699, 0.7241, 0.4586],\n        ...,\n        [0.0682, 0.1355, 0.0044,  ..., 0.0214, 0.4132, 0.1438],\n        [0.3634, 0.3861, 0.3851,  ..., 0.4029, 0.5693, 0.2335],\n        [0.1997, 0.0016, 0.1447,  ..., 0.1688, 0.0115, 0.0433]])"
     },
     "execution_count": 140,
=======
   "execution_count": 102,
   "outputs": [
    {
     "data": {
      "text/plain": "tensor([[[0.0173, 0.2697, 0.1789],\n         [0.4366, 0.0090, 0.2950],\n         [0.3693, 0.1461, 0.4551],\n         ...,\n         [0.9017, 0.5112, 0.5140],\n         [0.1198, 0.4609, 0.6225],\n         [0.2311, 0.4124, 0.2071]],\n\n        [[0.1948, 0.0797, 0.6593],\n         [0.2864, 0.1765, 0.0337],\n         [0.6572, 0.1934, 0.3370],\n         ...,\n         [0.3589, 0.0811, 0.0365],\n         [0.1385, 0.6798, 0.6549],\n         [0.3805, 0.5523, 0.3175]],\n\n        [[0.3795, 0.0138, 0.0191],\n         [0.1418, 0.3934, 0.3139],\n         [0.1922, 0.6889, 0.2074],\n         ...,\n         [0.1838, 0.2688, 0.2838],\n         [0.0788, 0.5921, 0.0807],\n         [0.1048, 0.0056, 0.0652]],\n\n        ...,\n\n        [[0.0967, 0.2454, 0.2553],\n         [0.0401, 0.0821, 0.0427],\n         [0.3358, 0.7291, 0.3569],\n         ...,\n         [0.4428, 0.1871, 0.0850],\n         [0.0078, 0.3138, 0.2367],\n         [0.5452, 0.4997, 0.0723]],\n\n        [[0.0625, 0.1393, 0.5852],\n         [0.5123, 0.0973, 0.5146],\n         [0.5525, 0.7249, 0.0501],\n         ...,\n         [0.1094, 0.1405, 0.3294],\n         [0.0198, 0.8552, 0.3268],\n         [0.4858, 0.1340, 0.2308]],\n\n        [[0.3510, 0.2804, 0.0324],\n         [0.5632, 0.1650, 0.0875],\n         [0.3017, 0.2385, 0.1044],\n         ...,\n         [0.6018, 0.2368, 0.1790],\n         [0.3094, 0.0163, 0.0686],\n         [0.3232, 0.0177, 0.8603]]])"
     },
     "execution_count": 102,
>>>>>>> 160bbc10378bb7177d4fd995a0e4d38e262470b2
     "metadata": {},
     "output_type": "execute_result"
    }
   ],
   "source": [
    "torch.mul(TENS1, TENS2)"
   ],
   "metadata": {
    "collapsed": false
   }
  },
  {
   "cell_type": "code",
<<<<<<< HEAD
   "execution_count": 141,
   "outputs": [],
   "source": [
    "MATMUL = torch.matmul(TENS1, TENS2)"
   ],
   "metadata": {
    "collapsed": false
   }
  },
  {
   "cell_type": "code",
   "execution_count": 142,
   "outputs": [
    {
     "data": {
      "text/plain": "torch.Size([255, 255])"
     },
     "execution_count": 142,
     "metadata": {},
     "output_type": "execute_result"
    }
   ],
   "source": [
    "MATMUL.shape"
   ],
   "metadata": {
    "collapsed": false
   }
  },
  {
   "cell_type": "code",
   "execution_count": 143,
   "outputs": [
    {
     "data": {
      "text/plain": "tensor([[64.6204, 66.0183, 67.2470,  ..., 66.0726, 62.3211, 63.3282],\n        [65.9816, 67.9472, 67.8614,  ..., 69.8441, 65.6208, 61.9421],\n        [67.8471, 68.1122, 68.3189,  ..., 72.6280, 67.3859, 66.0245],\n        ...,\n        [61.6712, 61.2118, 62.6763,  ..., 65.0371, 62.7635, 59.8764],\n        [64.9877, 66.8007, 69.1010,  ..., 69.7273, 64.4451, 64.7372],\n        [63.6187, 63.0782, 62.0389,  ..., 66.0101, 59.2578, 60.4154]])"
     },
     "execution_count": 143,
     "metadata": {},
     "output_type": "execute_result"
    }
   ],
   "source": [
    "MATMUL"
   ],
   "metadata": {
    "collapsed": false
   }
  },
  {
   "cell_type": "code",
   "execution_count": 144,
   "outputs": [
    {
     "data": {
      "text/plain": "tensor(64.6204)"
     },
     "execution_count": 144,
     "metadata": {},
     "output_type": "execute_result"
    }
   ],
   "source": [
    "MATMUL[0, 0]"
   ],
   "metadata": {
    "collapsed": false
   }
  },
  {
   "cell_type": "markdown",
   "source": [
    "There are two main rules that should be followed when multiplying matrices:\n",
    "1. The **inner dimensions** must match\n",
    "- (3, 2) @ (3, 2) -> won't work\n",
    "- (3, 2) @ (2, 3) -> will work\n",
    "2. The resulting matrix has the shape of the **outer dimensions**\n",
    "- (3, 2) @ (2, 3) = (3, 3)\n",
    "- (2, 3) @ (3, 2) = (2, 2)"
   ],
   "metadata": {
    "collapsed": false
   }
  },
  {
   "cell_type": "markdown",
   "source": [
    "**How to deal with matrix multiplication error?**\n",
    "\n",
    "- Transpose operation"
   ],
   "metadata": {
    "collapsed": false
   }
  },
  {
   "cell_type": "code",
   "execution_count": 145,
   "outputs": [],
   "source": [
    "MATRIX_A = torch.tensor([[1, 2],\n",
    "            [3, 4],\n",
    "            [5, 6]])\n",
    "MATRIX_B = torch.tensor([[7, 10],\n",
    "            [8, 11],\n",
    "            [9, 12]])"
   ],
   "metadata": {
    "collapsed": false
   }
  },
  {
   "cell_type": "code",
   "execution_count": 146,
   "outputs": [
    {
     "ename": "RuntimeError",
     "evalue": "mat1 and mat2 shapes cannot be multiplied (3x2 and 3x2)",
     "output_type": "error",
     "traceback": [
      "\u001B[1;31m---------------------------------------------------------------------------\u001B[0m",
      "\u001B[1;31mRuntimeError\u001B[0m                              Traceback (most recent call last)",
      "Cell \u001B[1;32mIn[146], line 1\u001B[0m\n\u001B[1;32m----> 1\u001B[0m \u001B[43mMATRIX_A\u001B[49m\u001B[38;5;241;43m.\u001B[39;49m\u001B[43mmatmul\u001B[49m\u001B[43m(\u001B[49m\u001B[43mMATRIX_B\u001B[49m\u001B[43m)\u001B[49m\n",
      "\u001B[1;31mRuntimeError\u001B[0m: mat1 and mat2 shapes cannot be multiplied (3x2 and 3x2)"
     ]
    }
   ],
   "source": [
    "MATRIX_A.matmul(MATRIX_B)"
   ],
   "metadata": {
    "collapsed": false
   }
  },
  {
   "cell_type": "code",
   "execution_count": 147,
   "outputs": [
    {
     "data": {
      "text/plain": "(torch.Size([3, 2]), torch.Size([3, 2]))"
     },
     "execution_count": 147,
     "metadata": {},
     "output_type": "execute_result"
    }
   ],
   "source": [
    "MATRIX_A.shape, MATRIX_B.shape"
   ],
   "metadata": {
    "collapsed": false
   }
  },
  {
   "cell_type": "code",
   "execution_count": 148,
   "outputs": [],
   "source": [
    "MATRIX_B_T = MATRIX_B.T"
   ],
   "metadata": {
    "collapsed": false
   }
  },
  {
   "cell_type": "code",
   "execution_count": 149,
   "outputs": [
    {
     "data": {
      "text/plain": "tensor([[ 27,  30,  33],\n        [ 61,  68,  75],\n        [ 95, 106, 117]])"
     },
     "execution_count": 149,
     "metadata": {},
     "output_type": "execute_result"
    }
   ],
   "source": [
    "MATRIX_A.mm(MATRIX_B_T)"
   ],
   "metadata": {
    "collapsed": false
   }
  },
  {
   "cell_type": "code",
   "execution_count": 150,
   "outputs": [
    {
     "data": {
      "text/plain": "tensor([[ 27,  61,  95],\n        [ 30,  68, 106],\n        [ 33,  75, 117]])"
     },
     "execution_count": 150,
     "metadata": {},
     "output_type": "execute_result"
    }
   ],
   "source": [
    "MATRIX_B.mm(MATRIX_A.T)"
   ],
   "metadata": {
    "collapsed": false
   }
  },
  {
   "cell_type": "code",
   "execution_count": 151,
   "outputs": [
    {
     "data": {
      "text/plain": "tensor([[True, True, True],\n        [True, True, True],\n        [True, True, True]])"
     },
     "execution_count": 151,
     "metadata": {},
     "output_type": "execute_result"
    }
   ],
   "source": [
    "MATRIX_A.mm(MATRIX_B.T) == MATRIX_B.matmul(MATRIX_A.T).T"
   ],
   "metadata": {
    "collapsed": false
   }
  },
  {
   "cell_type": "markdown",
   "source": [
    "### Tensor Aggregation"
   ],
   "metadata": {
    "collapsed": false
   }
  },
  {
   "cell_type": "code",
   "execution_count": 164,
   "outputs": [],
   "source": [
    "TENSOR = torch.randint(high=10000,\n",
    "                       size=(3, 4, 5),\n",
    "                       dtype=torch.int64)"
   ],
   "metadata": {
    "collapsed": false
   }
  },
  {
   "cell_type": "code",
   "execution_count": 165,
   "outputs": [
    {
     "data": {
      "text/plain": "tensor(400)"
     },
     "execution_count": 165,
     "metadata": {},
     "output_type": "execute_result"
    }
   ],
   "source": [
    "torch.min(TENSOR)"
   ],
   "metadata": {
    "collapsed": false
   }
  },
  {
   "cell_type": "code",
   "execution_count": 166,
   "outputs": [
    {
     "data": {
      "text/plain": "tensor(9878)"
     },
     "execution_count": 166,
     "metadata": {},
     "output_type": "execute_result"
    }
   ],
   "source": [
    "torch.max(TENSOR)"
   ],
   "metadata": {
    "collapsed": false
   }
  },
  {
   "cell_type": "code",
   "execution_count": 167,
   "outputs": [
    {
     "ename": "RuntimeError",
     "evalue": "mean(): could not infer output dtype. Input dtype must be either a floating point or complex dtype. Got: Long",
     "output_type": "error",
     "traceback": [
      "\u001B[1;31m---------------------------------------------------------------------------\u001B[0m",
      "\u001B[1;31mRuntimeError\u001B[0m                              Traceback (most recent call last)",
      "Cell \u001B[1;32mIn[167], line 1\u001B[0m\n\u001B[1;32m----> 1\u001B[0m \u001B[43mtorch\u001B[49m\u001B[38;5;241;43m.\u001B[39;49m\u001B[43mmean\u001B[49m\u001B[43m(\u001B[49m\u001B[43mTENSOR\u001B[49m\u001B[43m)\u001B[49m\n",
      "\u001B[1;31mRuntimeError\u001B[0m: mean(): could not infer output dtype. Input dtype must be either a floating point or complex dtype. Got: Long"
     ]
    }
   ],
   "source": [
    "## CAVEAT: Data type error\n",
    "torch.mean(TENSOR)"
   ],
   "metadata": {
    "collapsed": false
   }
  },
  {
   "cell_type": "code",
   "execution_count": 169,
   "outputs": [],
   "source": [
    "TENSOR = torch.rand(size=(23, 4, 5),\n",
    "                    dtype=torch.float64)"
   ],
   "metadata": {
    "collapsed": false
   }
  },
  {
   "cell_type": "code",
   "execution_count": 170,
   "outputs": [
    {
     "data": {
      "text/plain": "tensor(0.5092, dtype=torch.float64)"
     },
     "execution_count": 170,
     "metadata": {},
     "output_type": "execute_result"
    }
   ],
   "source": [
    "torch.mean(TENSOR)"
   ],
   "metadata": {
    "collapsed": false
   }
  },
  {
   "cell_type": "code",
   "execution_count": 171,
   "outputs": [
    {
     "data": {
      "text/plain": "tensor(234.2484, dtype=torch.float64)"
     },
     "execution_count": 171,
     "metadata": {},
     "output_type": "execute_result"
    }
   ],
   "source": [
    "torch.sum(TENSOR)"
   ],
   "metadata": {
    "collapsed": false
   }
  },
  {
   "cell_type": "code",
   "execution_count": 173,
   "outputs": [
    {
     "data": {
      "text/plain": "tensor([[1, 0, 1, 4],\n        [4, 1, 2, 0],\n        [0, 3, 4, 2],\n        [3, 3, 1, 1],\n        [2, 2, 3, 1],\n        [4, 3, 0, 1],\n        [3, 0, 2, 0],\n        [3, 2, 0, 3],\n        [3, 2, 3, 3],\n        [1, 0, 2, 2],\n        [4, 3, 0, 4],\n        [0, 2, 3, 1],\n        [1, 3, 0, 4],\n        [3, 0, 4, 1],\n        [1, 3, 3, 2],\n        [3, 0, 2, 0],\n        [0, 3, 4, 1],\n        [2, 2, 2, 4],\n        [1, 4, 2, 3],\n        [2, 4, 3, 0],\n        [0, 3, 4, 3],\n        [0, 4, 1, 0],\n        [1, 2, 3, 4]])"
     },
     "execution_count": 173,
     "metadata": {},
     "output_type": "execute_result"
    }
   ],
   "source": [
    "torch.argmin(TENSOR,\n",
    "             dim=2)"
   ],
   "metadata": {
    "collapsed": false
   }
  },
  {
   "cell_type": "code",
   "execution_count": 174,
   "outputs": [
    {
     "data": {
      "text/plain": "tensor([[1, 2, 1, 3, 1],\n        [1, 1, 2, 2, 1],\n        [0, 1, 3, 1, 0],\n        [3, 3, 3, 0, 2],\n        [2, 3, 0, 2, 2],\n        [2, 3, 1, 1, 0],\n        [3, 0, 2, 0, 0],\n        [2, 3, 3, 3, 0],\n        [3, 0, 1, 0, 2],\n        [2, 0, 2, 2, 1],\n        [2, 2, 2, 1, 0],\n        [0, 3, 1, 2, 1],\n        [3, 0, 3, 1, 3],\n        [1, 3, 3, 0, 2],\n        [3, 0, 3, 1, 1],\n        [2, 2, 2, 0, 1],\n        [0, 3, 0, 0, 2],\n        [3, 3, 2, 0, 3],\n        [3, 2, 2, 3, 1],\n        [0, 3, 0, 2, 1],\n        [0, 2, 3, 1, 2],\n        [3, 3, 3, 1, 1],\n        [1, 0, 1, 2, 3]])"
     },
     "execution_count": 174,
     "metadata": {},
     "output_type": "execute_result"
    }
   ],
   "source": [
    "torch.argmin(TENSOR,\n",
    "             dim=1)"
   ],
   "metadata": {
    "collapsed": false
   }
  },
  {
   "cell_type": "code",
   "execution_count": 175,
   "outputs": [
    {
     "data": {
      "text/plain": "tensor([[17,  5, 12, 20, 14],\n        [ 4,  7, 13, 17,  5],\n        [21,  6, 13, 20, 11],\n        [ 4,  1,  6, 16,  6]])"
     },
     "execution_count": 175,
     "metadata": {},
     "output_type": "execute_result"
    }
   ],
   "source": [
    "torch.argmax(TENSOR,\n",
    "             dim=0)"
   ],
   "metadata": {
    "collapsed": false
   }
  },
  {
   "cell_type": "code",
   "execution_count": 177,
   "outputs": [
    {
     "data": {
      "text/plain": "tensor(146)"
     },
     "execution_count": 177,
     "metadata": {},
     "output_type": "execute_result"
    }
   ],
   "source": [
    "torch.argmax(TENSOR)"
   ],
   "metadata": {
    "collapsed": false
   }
  },
  {
   "cell_type": "code",
   "execution_count": 178,
   "outputs": [
    {
     "data": {
      "text/plain": "tensor(0.0034, dtype=torch.float64)"
     },
     "execution_count": 178,
     "metadata": {},
     "output_type": "execute_result"
    }
   ],
   "source": [
    "torch.min(TENSOR)"
   ],
   "metadata": {
    "collapsed": false
   }
  },
  {
   "cell_type": "markdown",
   "source": [
    "### Reshaping, Squeezing, Stacking\n",
    "\n",
    "* Reshaping -> reshapes a tensor into a defined shape (if possible)\n",
    "* View -> Return a view of an input tensor of a certain shape while keeping the same memory as the original one\n",
    "* Stacking -> stack multiple tensors along a certain dimension\n",
    "* Squeezing -> remove all `1` dimensions\n",
    "* Unsqueezing -> add all `1` dimensions\n",
    "* Permute -> return a view of the input tensors with dimensions permuted, i.e., swapped, in a certain way"
   ],
   "metadata": {
    "collapsed": false
   }
  },
  {
   "cell_type": "code",
   "execution_count": 184,
   "outputs": [
    {
     "data": {
      "text/plain": "tensor([1, 2, 3, 4, 5, 6, 7, 8, 9])"
     },
     "execution_count": 184,
     "metadata": {},
     "output_type": "execute_result"
    }
   ],
   "source": [
    "X = torch.arange(1, 10)\n",
    "X"
   ],
   "metadata": {
    "collapsed": false
   }
  },
  {
   "cell_type": "code",
   "execution_count": 185,
   "outputs": [
    {
     "data": {
      "text/plain": "tensor([[1, 2, 3],\n        [4, 5, 6],\n        [7, 8, 9]])"
     },
     "execution_count": 185,
     "metadata": {},
     "output_type": "execute_result"
    }
   ],
   "source": [
    "x_reshaped = torch.reshape(X, (-1, 3))\n",
    "x_reshaped"
   ],
   "metadata": {
    "collapsed": false
   }
  },
  {
   "cell_type": "code",
   "execution_count": 189,
   "outputs": [],
   "source": [
    "Z = X.view(1, 9)"
   ],
   "metadata": {
    "collapsed": false
   }
  },
  {
   "cell_type": "code",
   "execution_count": 190,
   "outputs": [],
   "source": [
    "# Modifying Z also modifies X since they share the same memory space\n",
    "Z[:, 0] = 10"
   ],
   "metadata": {
    "collapsed": false
   }
  },
  {
   "cell_type": "code",
   "execution_count": 191,
   "outputs": [
    {
     "data": {
      "text/plain": "tensor([10,  2,  3,  4,  5,  6,  7,  8,  9])"
     },
     "execution_count": 191,
     "metadata": {},
     "output_type": "execute_result"
    }
   ],
   "source": [
    "X"
   ],
   "metadata": {
    "collapsed": false
   }
  },
  {
   "cell_type": "code",
   "execution_count": 192,
   "outputs": [],
   "source": [
    "Y = X.view(3, 3)"
   ],
   "metadata": {
    "collapsed": false
   }
  },
  {
   "cell_type": "code",
   "execution_count": 193,
   "outputs": [
    {
     "data": {
      "text/plain": "tensor([[10,  2,  3],\n        [ 4,  5,  6],\n        [ 7,  8,  9]])"
     },
     "execution_count": 193,
     "metadata": {},
     "output_type": "execute_result"
    }
   ],
   "source": [
    "Y"
   ],
   "metadata": {
    "collapsed": false
   }
  },
  {
   "cell_type": "code",
   "execution_count": 195,
   "outputs": [],
   "source": [
    "Y[0, 2] = 199"
   ],
   "metadata": {
    "collapsed": false
   }
  },
  {
   "cell_type": "code",
   "execution_count": 196,
   "outputs": [
    {
     "data": {
      "text/plain": "tensor([ 10,   2, 199,   4,   5,   6,   7,   8,   9])"
     },
     "execution_count": 196,
     "metadata": {},
     "output_type": "execute_result"
    }
   ],
   "source": [
    "X"
   ],
   "metadata": {
    "collapsed": false
   }
  },
  {
   "cell_type": "code",
   "execution_count": 197,
   "outputs": [
    {
     "data": {
      "text/plain": "tensor([[ 10,   2, 199,   4,   5,   6,   7,   8,   9]])"
     },
     "execution_count": 197,
     "metadata": {},
     "output_type": "execute_result"
    }
   ],
   "source": [
    "Z"
   ],
   "metadata": {
    "collapsed": false
   }
  },
  {
   "cell_type": "code",
   "execution_count": 198,
   "outputs": [
    {
     "data": {
      "text/plain": "tensor([[ 10,   2, 199],\n        [  4,   5,   6],\n        [  7,   8,   9]])"
     },
     "execution_count": 198,
     "metadata": {},
     "output_type": "execute_result"
    }
   ],
   "source": [
    "Y"
   ],
   "metadata": {
    "collapsed": false
   }
  },
  {
   "cell_type": "code",
   "execution_count": 200,
   "outputs": [],
   "source": [
    "stacked = torch.stack((X, X, X), dim=0)"
   ],
   "metadata": {
    "collapsed": false
   }
  },
  {
   "cell_type": "code",
   "execution_count": 201,
   "outputs": [
    {
     "data": {
      "text/plain": "tensor([[ 10,   2, 199,   4,   5,   6,   7,   8,   9],\n        [ 10,   2, 199,   4,   5,   6,   7,   8,   9],\n        [ 10,   2, 199,   4,   5,   6,   7,   8,   9]])"
     },
     "execution_count": 201,
     "metadata": {},
     "output_type": "execute_result"
    }
   ],
   "source": [
    "stacked"
   ],
   "metadata": {
    "collapsed": false
   }
  },
  {
   "cell_type": "code",
   "execution_count": 207,
   "outputs": [],
   "source": [
    "hstacked = torch.hstack((X, X, X))"
   ],
   "metadata": {
    "collapsed": false
   }
  },
  {
   "cell_type": "code",
   "execution_count": 208,
   "outputs": [
    {
     "data": {
      "text/plain": "tensor([ 10,   2, 199,   4,   5,   6,   7,   8,   9,  10,   2, 199,   4,   5,\n          6,   7,   8,   9,  10,   2, 199,   4,   5,   6,   7,   8,   9])"
     },
     "execution_count": 208,
     "metadata": {},
     "output_type": "execute_result"
    }
   ],
   "source": [
    "torch.squeeze(hstacked)"
   ],
   "metadata": {
    "collapsed": false
   }
  },
  {
   "cell_type": "code",
   "execution_count": 209,
   "outputs": [
    {
     "data": {
      "text/plain": "tensor([[ 10,   2, 199,   4,   5,   6,   7,   8,   9],\n        [ 10,   2, 199,   4,   5,   6,   7,   8,   9],\n        [ 10,   2, 199,   4,   5,   6,   7,   8,   9]])"
     },
     "execution_count": 209,
     "metadata": {},
     "output_type": "execute_result"
    }
   ],
   "source": [
    "torch.squeeze(stacked)"
   ],
   "metadata": {
    "collapsed": false
   }
  },
  {
   "cell_type": "code",
   "execution_count": 210,
   "outputs": [],
   "source": [
    "number = torch.tensor([[[[[9]]]]])"
   ],
   "metadata": {
    "collapsed": false
   }
  },
  {
   "cell_type": "code",
   "execution_count": 211,
   "outputs": [
    {
     "data": {
      "text/plain": "tensor(9)"
     },
     "execution_count": 211,
     "metadata": {},
     "output_type": "execute_result"
    }
   ],
   "source": [
    "torch.squeeze(number)"
   ],
   "metadata": {
    "collapsed": false
   }
  },
  {
   "cell_type": "code",
   "execution_count": 214,
   "outputs": [
    {
     "data": {
      "text/plain": "tensor([[ 10,   2, 199,   4,   5,   6,   7,   8,   9]])"
     },
     "execution_count": 214,
     "metadata": {},
     "output_type": "execute_result"
    }
   ],
   "source": [
    "torch.unsqueeze(X, dim=0)"
   ],
   "metadata": {
    "collapsed": false
   }
  },
  {
   "cell_type": "code",
   "execution_count": 215,
   "outputs": [
    {
     "data": {
      "text/plain": "tensor([[ 10],\n        [  2],\n        [199],\n        [  4],\n        [  5],\n        [  6],\n        [  7],\n        [  8],\n        [  9]])"
     },
     "execution_count": 215,
     "metadata": {},
     "output_type": "execute_result"
    }
   ],
   "source": [
    "torch.unsqueeze(X, dim=1)"
   ],
   "metadata": {
    "collapsed": false
   }
  },
  {
   "cell_type": "code",
   "execution_count": 221,
   "outputs": [
    {
     "data": {
      "text/plain": "tensor([[ 10,  10,  10],\n        [  2,   2,   2],\n        [199, 199, 199],\n        [  4,   4,   4],\n        [  5,   5,   5],\n        [  6,   6,   6],\n        [  7,   7,   7],\n        [  8,   8,   8],\n        [  9,   9,   9]])"
     },
     "execution_count": 221,
     "metadata": {},
     "output_type": "execute_result"
    }
   ],
   "source": [
    "torch.permute(stacked, dims=(1, 0))"
   ],
   "metadata": {
    "collapsed": false
   }
  },
  {
   "cell_type": "code",
   "execution_count": 226,
   "outputs": [
    {
     "data": {
      "text/plain": "tensor([[[8.8880e-01, 9.9994e-01, 1.3935e-01],\n         [3.8621e-01, 6.3435e-01, 8.9540e-01],\n         [3.5744e-01, 6.2077e-02, 5.5748e-01],\n         ...,\n         [1.2010e-04, 2.1069e-01, 6.7662e-01],\n         [8.2038e-02, 1.3267e-01, 1.6356e-01],\n         [1.0474e-01, 1.4997e-01, 9.9176e-01]],\n\n        [[5.7414e-01, 4.7885e-01, 9.7413e-01],\n         [9.1128e-01, 3.5110e-01, 7.6750e-01],\n         [4.7712e-01, 9.1051e-01, 4.5757e-01],\n         ...,\n         [5.2835e-01, 2.0104e-01, 7.0812e-01],\n         [9.7858e-01, 9.0183e-01, 8.0635e-01],\n         [9.2519e-01, 6.0602e-01, 7.8442e-02]],\n\n        [[6.8933e-01, 2.9440e-01, 2.8777e-01],\n         [4.1707e-01, 1.2727e-02, 9.7297e-01],\n         [8.7608e-01, 8.0070e-01, 5.6874e-01],\n         ...,\n         [7.0124e-01, 9.4412e-02, 6.7309e-01],\n         [2.0193e-03, 8.2293e-01, 5.1491e-02],\n         [7.1804e-01, 2.5670e-01, 9.2729e-01]],\n\n        ...,\n\n        [[7.7395e-01, 5.6817e-01, 6.8587e-01],\n         [4.7611e-01, 7.7257e-01, 5.9404e-01],\n         [7.3544e-02, 4.9283e-01, 2.3120e-01],\n         ...,\n         [8.8564e-01, 2.0409e-01, 2.3938e-01],\n         [6.2051e-01, 3.8358e-01, 1.6644e-02],\n         [6.3001e-01, 8.7082e-01, 1.1453e-01]],\n\n        [[7.8683e-02, 6.8738e-01, 1.3025e-01],\n         [5.0152e-01, 1.9348e-02, 8.8835e-01],\n         [8.9417e-01, 9.5396e-01, 4.6971e-01],\n         ...,\n         [9.4086e-01, 7.9379e-01, 6.6053e-01],\n         [8.8575e-01, 8.2625e-01, 9.7301e-02],\n         [1.6268e-01, 4.5806e-01, 9.8402e-02]],\n\n        [[1.6452e-02, 2.4376e-01, 6.7299e-01],\n         [3.4603e-01, 8.7746e-01, 5.8157e-01],\n         [8.9264e-01, 2.3108e-01, 2.6191e-02],\n         ...,\n         [5.1292e-01, 9.5491e-01, 5.0540e-01],\n         [5.3409e-02, 3.9263e-01, 4.4430e-01],\n         [1.6351e-01, 3.4277e-01, 4.4450e-01]]])"
     },
     "execution_count": 226,
     "metadata": {},
     "output_type": "execute_result"
    }
   ],
   "source": [
    "x_original = torch.rand(size=(224, 224, 3))\n",
    "x_original"
   ],
   "metadata": {
    "collapsed": false
   }
  },
  {
   "cell_type": "code",
   "execution_count": 227,
   "outputs": [],
   "source": [
    "permuted = torch.permute(x_original, dims=(2, 0, 1))"
   ],
   "metadata": {
    "collapsed": false
   }
  },
  {
   "cell_type": "code",
   "execution_count": 228,
   "outputs": [
    {
     "data": {
      "text/plain": "torch.Size([3, 224, 224])"
     },
     "execution_count": 228,
     "metadata": {},
     "output_type": "execute_result"
    }
   ],
   "source": [
    "permuted.shape"
   ],
   "metadata": {
    "collapsed": false
   }
  },
  {
   "cell_type": "code",
   "execution_count": 229,
   "outputs": [
    {
     "data": {
      "text/plain": "torch.Size([224, 224, 3])"
     },
     "execution_count": 229,
     "metadata": {},
     "output_type": "execute_result"
    }
   ],
   "source": [
    "x_original.shape"
   ],
   "metadata": {
    "collapsed": false
   }
  },
  {
   "cell_type": "code",
   "execution_count": 236,
   "outputs": [],
   "source": [
    "x_original[0, 0, 0] = 100000"
   ],
   "metadata": {
    "collapsed": false
   }
  },
  {
   "cell_type": "code",
   "execution_count": 237,
   "outputs": [
    {
     "data": {
      "text/plain": "tensor([[[1.0000e+05, 9.9994e-01, 1.3935e-01],\n         [3.8621e-01, 6.3435e-01, 8.9540e-01],\n         [3.5744e-01, 6.2077e-02, 5.5748e-01],\n         ...,\n         [1.2010e-04, 2.1069e-01, 6.7662e-01],\n         [8.2038e-02, 1.3267e-01, 1.6356e-01],\n         [1.0474e-01, 1.4997e-01, 9.9176e-01]],\n\n        [[5.7414e-01, 4.7885e-01, 9.7413e-01],\n         [9.1128e-01, 3.5110e-01, 7.6750e-01],\n         [4.7712e-01, 9.1051e-01, 4.5757e-01],\n         ...,\n         [5.2835e-01, 2.0104e-01, 7.0812e-01],\n         [9.7858e-01, 9.0183e-01, 8.0635e-01],\n         [9.2519e-01, 6.0602e-01, 7.8442e-02]],\n\n        [[6.8933e-01, 2.9440e-01, 2.8777e-01],\n         [4.1707e-01, 1.2727e-02, 9.7297e-01],\n         [8.7608e-01, 8.0070e-01, 5.6874e-01],\n         ...,\n         [7.0124e-01, 9.4412e-02, 6.7309e-01],\n         [2.0193e-03, 8.2293e-01, 5.1491e-02],\n         [7.1804e-01, 2.5670e-01, 9.2729e-01]],\n\n        ...,\n\n        [[7.7395e-01, 5.6817e-01, 6.8587e-01],\n         [4.7611e-01, 7.7257e-01, 5.9404e-01],\n         [7.3544e-02, 4.9283e-01, 2.3120e-01],\n         ...,\n         [8.8564e-01, 2.0409e-01, 2.3938e-01],\n         [6.2051e-01, 3.8358e-01, 1.6644e-02],\n         [6.3001e-01, 8.7082e-01, 1.1453e-01]],\n\n        [[7.8683e-02, 6.8738e-01, 1.3025e-01],\n         [5.0152e-01, 1.9348e-02, 8.8835e-01],\n         [8.9417e-01, 9.5396e-01, 4.6971e-01],\n         ...,\n         [9.4086e-01, 7.9379e-01, 6.6053e-01],\n         [8.8575e-01, 8.2625e-01, 9.7301e-02],\n         [1.6268e-01, 4.5806e-01, 9.8402e-02]],\n\n        [[1.6452e-02, 2.4376e-01, 6.7299e-01],\n         [3.4603e-01, 8.7746e-01, 5.8157e-01],\n         [8.9264e-01, 2.3108e-01, 2.6191e-02],\n         ...,\n         [5.1292e-01, 9.5491e-01, 5.0540e-01],\n         [5.3409e-02, 3.9263e-01, 4.4430e-01],\n         [1.6351e-01, 3.4277e-01, 4.4450e-01]]])"
     },
     "execution_count": 237,
     "metadata": {},
     "output_type": "execute_result"
    }
   ],
   "source": [
    "x_original"
   ],
   "metadata": {
    "collapsed": false
   }
  },
  {
   "cell_type": "code",
   "execution_count": 238,
   "outputs": [
    {
     "data": {
      "text/plain": "tensor([[[1.0000e+05, 3.8621e-01, 3.5744e-01,  ..., 1.2010e-04,\n          8.2038e-02, 1.0474e-01],\n         [5.7414e-01, 9.1128e-01, 4.7712e-01,  ..., 5.2835e-01,\n          9.7858e-01, 9.2519e-01],\n         [6.8933e-01, 4.1707e-01, 8.7608e-01,  ..., 7.0124e-01,\n          2.0193e-03, 7.1804e-01],\n         ...,\n         [7.7395e-01, 4.7611e-01, 7.3544e-02,  ..., 8.8564e-01,\n          6.2051e-01, 6.3001e-01],\n         [7.8683e-02, 5.0152e-01, 8.9417e-01,  ..., 9.4086e-01,\n          8.8575e-01, 1.6268e-01],\n         [1.6452e-02, 3.4603e-01, 8.9264e-01,  ..., 5.1292e-01,\n          5.3409e-02, 1.6351e-01]],\n\n        [[9.9994e-01, 6.3435e-01, 6.2077e-02,  ..., 2.1069e-01,\n          1.3267e-01, 1.4997e-01],\n         [4.7885e-01, 3.5110e-01, 9.1051e-01,  ..., 2.0104e-01,\n          9.0183e-01, 6.0602e-01],\n         [2.9440e-01, 1.2727e-02, 8.0070e-01,  ..., 9.4412e-02,\n          8.2293e-01, 2.5670e-01],\n         ...,\n         [5.6817e-01, 7.7257e-01, 4.9283e-01,  ..., 2.0409e-01,\n          3.8358e-01, 8.7082e-01],\n         [6.8738e-01, 1.9348e-02, 9.5396e-01,  ..., 7.9379e-01,\n          8.2625e-01, 4.5806e-01],\n         [2.4376e-01, 8.7746e-01, 2.3108e-01,  ..., 9.5491e-01,\n          3.9263e-01, 3.4277e-01]],\n\n        [[1.3935e-01, 8.9540e-01, 5.5748e-01,  ..., 6.7662e-01,\n          1.6356e-01, 9.9176e-01],\n         [9.7413e-01, 7.6750e-01, 4.5757e-01,  ..., 7.0812e-01,\n          8.0635e-01, 7.8442e-02],\n         [2.8777e-01, 9.7297e-01, 5.6874e-01,  ..., 6.7309e-01,\n          5.1491e-02, 9.2729e-01],\n         ...,\n         [6.8587e-01, 5.9404e-01, 2.3120e-01,  ..., 2.3938e-01,\n          1.6644e-02, 1.1453e-01],\n         [1.3025e-01, 8.8835e-01, 4.6971e-01,  ..., 6.6053e-01,\n          9.7301e-02, 9.8402e-02],\n         [6.7299e-01, 5.8157e-01, 2.6191e-02,  ..., 5.0540e-01,\n          4.4430e-01, 4.4450e-01]]])"
     },
     "execution_count": 238,
     "metadata": {},
     "output_type": "execute_result"
    }
   ],
   "source": [
    "permuted"
   ],
   "metadata": {
    "collapsed": false
   }
  },
  {
   "cell_type": "code",
=======
>>>>>>> 160bbc10378bb7177d4fd995a0e4d38e262470b2
   "execution_count": null,
   "outputs": [],
   "source": [],
   "metadata": {
    "collapsed": false
   }
  }
 ],
 "metadata": {
  "kernelspec": {
   "display_name": "Python 3",
   "language": "python",
   "name": "python3"
  },
  "language_info": {
   "codemirror_mode": {
    "name": "ipython",
    "version": 2
   },
   "file_extension": ".py",
   "mimetype": "text/x-python",
   "name": "python",
   "nbconvert_exporter": "python",
   "pygments_lexer": "ipython2",
   "version": "2.7.6"
  }
 },
 "nbformat": 4,
 "nbformat_minor": 0
}
