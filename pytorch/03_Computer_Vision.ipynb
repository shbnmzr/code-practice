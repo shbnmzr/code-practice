{
 "cells": [
  {
   "cell_type": "code",
   "execution_count": 417,
   "metadata": {
    "collapsed": true,
    "ExecuteTime": {
     "end_time": "2023-08-17T12:21:28.914644400Z",
     "start_time": "2023-08-17T12:21:28.694856400Z"
    }
   },
   "outputs": [],
   "source": [
    "import torch\n",
    "from torch import nn\n",
    "import matplotlib.pyplot as plt\n",
    "\n",
    "# GENERAL IMPORTS\n",
    "from torch.utils.data import DataLoader\n",
    "import torchmetrics\n",
    "from timeit import default_timer as timer\n",
    "from tqdm.auto import tqdm\n",
    "import random\n",
    "import mlxtend\n",
    "\n",
    "# CV IMPORTS\n",
    "import torchvision\n",
    "from torchvision import datasets\n",
    "from torchvision.transforms import ToTensor"
   ]
  },
  {
   "cell_type": "code",
   "execution_count": 418,
   "outputs": [
    {
     "name": "stdout",
     "output_type": "stream",
     "text": [
      "PyTeoch version: 2.0.1+cpu, Torch Vision version: 0.15.2+cpu\n"
     ]
    }
   ],
   "source": [
    "print(f'PyTeoch version: {torch.__version__}, Torch Vision version: {torchvision.__version__}')"
   ],
   "metadata": {
    "collapsed": false,
    "ExecuteTime": {
     "end_time": "2023-08-17T12:21:28.929759Z",
     "start_time": "2023-08-17T12:21:28.705631800Z"
    }
   }
  },
  {
   "cell_type": "markdown",
   "source": [
    "# 1. Getting a Dataset\n",
    "FashionMNIST dataset is used to build a CV model."
   ],
   "metadata": {
    "collapsed": false
   }
  },
  {
   "cell_type": "code",
   "execution_count": 419,
   "outputs": [],
   "source": [
    "training_data = datasets.FashionMNIST(\n",
    "    root='data',\n",
    "    train=True,\n",
    "    download=True,\n",
    "    transform=ToTensor(),\n",
    "    target_transform=None,\n",
    ")\n",
    "\n",
    "test_data = datasets.FashionMNIST(\n",
    "    root='data',\n",
    "    train=False,\n",
    "    download=True,\n",
    "    transform=ToTensor(),\n",
    ")"
   ],
   "metadata": {
    "collapsed": false,
    "ExecuteTime": {
     "end_time": "2023-08-17T12:21:29.255891800Z",
     "start_time": "2023-08-17T12:21:28.724612400Z"
    }
   }
  },
  {
   "cell_type": "code",
   "execution_count": 420,
   "outputs": [],
   "source": [
    "image, label = training_data[0]"
   ],
   "metadata": {
    "collapsed": false,
    "ExecuteTime": {
     "end_time": "2023-08-17T12:21:29.256399100Z",
     "start_time": "2023-08-17T12:21:28.784580400Z"
    }
   }
  },
  {
   "cell_type": "code",
   "execution_count": 421,
   "outputs": [
    {
     "data": {
      "text/plain": "tensor([[[0.0000, 0.0000, 0.0000, 0.0000, 0.0000, 0.0000, 0.0000, 0.0000,\n          0.0000, 0.0000, 0.0000, 0.0000, 0.0000, 0.0000, 0.0000, 0.0000,\n          0.0000, 0.0000, 0.0000, 0.0000, 0.0000, 0.0000, 0.0000, 0.0000,\n          0.0000, 0.0000, 0.0000, 0.0000],\n         [0.0000, 0.0000, 0.0000, 0.0000, 0.0000, 0.0000, 0.0000, 0.0000,\n          0.0000, 0.0000, 0.0000, 0.0000, 0.0000, 0.0000, 0.0000, 0.0000,\n          0.0000, 0.0000, 0.0000, 0.0000, 0.0000, 0.0000, 0.0000, 0.0000,\n          0.0000, 0.0000, 0.0000, 0.0000],\n         [0.0000, 0.0000, 0.0000, 0.0000, 0.0000, 0.0000, 0.0000, 0.0000,\n          0.0000, 0.0000, 0.0000, 0.0000, 0.0000, 0.0000, 0.0000, 0.0000,\n          0.0000, 0.0000, 0.0000, 0.0000, 0.0000, 0.0000, 0.0000, 0.0000,\n          0.0000, 0.0000, 0.0000, 0.0000],\n         [0.0000, 0.0000, 0.0000, 0.0000, 0.0000, 0.0000, 0.0000, 0.0000,\n          0.0000, 0.0000, 0.0000, 0.0000, 0.0039, 0.0000, 0.0000, 0.0510,\n          0.2863, 0.0000, 0.0000, 0.0039, 0.0157, 0.0000, 0.0000, 0.0000,\n          0.0000, 0.0039, 0.0039, 0.0000],\n         [0.0000, 0.0000, 0.0000, 0.0000, 0.0000, 0.0000, 0.0000, 0.0000,\n          0.0000, 0.0000, 0.0000, 0.0000, 0.0118, 0.0000, 0.1412, 0.5333,\n          0.4980, 0.2431, 0.2118, 0.0000, 0.0000, 0.0000, 0.0039, 0.0118,\n          0.0157, 0.0000, 0.0000, 0.0118],\n         [0.0000, 0.0000, 0.0000, 0.0000, 0.0000, 0.0000, 0.0000, 0.0000,\n          0.0000, 0.0000, 0.0000, 0.0000, 0.0235, 0.0000, 0.4000, 0.8000,\n          0.6902, 0.5255, 0.5647, 0.4824, 0.0902, 0.0000, 0.0000, 0.0000,\n          0.0000, 0.0471, 0.0392, 0.0000],\n         [0.0000, 0.0000, 0.0000, 0.0000, 0.0000, 0.0000, 0.0000, 0.0000,\n          0.0000, 0.0000, 0.0000, 0.0000, 0.0000, 0.0000, 0.6078, 0.9255,\n          0.8118, 0.6980, 0.4196, 0.6118, 0.6314, 0.4275, 0.2510, 0.0902,\n          0.3020, 0.5098, 0.2824, 0.0588],\n         [0.0000, 0.0000, 0.0000, 0.0000, 0.0000, 0.0000, 0.0000, 0.0000,\n          0.0000, 0.0000, 0.0000, 0.0039, 0.0000, 0.2706, 0.8118, 0.8745,\n          0.8549, 0.8471, 0.8471, 0.6392, 0.4980, 0.4745, 0.4784, 0.5725,\n          0.5529, 0.3451, 0.6745, 0.2588],\n         [0.0000, 0.0000, 0.0000, 0.0000, 0.0000, 0.0000, 0.0000, 0.0000,\n          0.0000, 0.0039, 0.0039, 0.0039, 0.0000, 0.7843, 0.9098, 0.9098,\n          0.9137, 0.8980, 0.8745, 0.8745, 0.8431, 0.8353, 0.6431, 0.4980,\n          0.4824, 0.7686, 0.8980, 0.0000],\n         [0.0000, 0.0000, 0.0000, 0.0000, 0.0000, 0.0000, 0.0000, 0.0000,\n          0.0000, 0.0000, 0.0000, 0.0000, 0.0000, 0.7176, 0.8824, 0.8471,\n          0.8745, 0.8941, 0.9216, 0.8902, 0.8784, 0.8706, 0.8784, 0.8667,\n          0.8745, 0.9608, 0.6784, 0.0000],\n         [0.0000, 0.0000, 0.0000, 0.0000, 0.0000, 0.0000, 0.0000, 0.0000,\n          0.0000, 0.0000, 0.0000, 0.0000, 0.0000, 0.7569, 0.8941, 0.8549,\n          0.8353, 0.7765, 0.7059, 0.8314, 0.8235, 0.8275, 0.8353, 0.8745,\n          0.8627, 0.9529, 0.7922, 0.0000],\n         [0.0000, 0.0000, 0.0000, 0.0000, 0.0000, 0.0000, 0.0000, 0.0000,\n          0.0000, 0.0039, 0.0118, 0.0000, 0.0471, 0.8588, 0.8627, 0.8314,\n          0.8549, 0.7529, 0.6627, 0.8902, 0.8157, 0.8549, 0.8784, 0.8314,\n          0.8863, 0.7725, 0.8196, 0.2039],\n         [0.0000, 0.0000, 0.0000, 0.0000, 0.0000, 0.0000, 0.0000, 0.0000,\n          0.0000, 0.0000, 0.0235, 0.0000, 0.3882, 0.9569, 0.8706, 0.8627,\n          0.8549, 0.7961, 0.7765, 0.8667, 0.8431, 0.8353, 0.8706, 0.8627,\n          0.9608, 0.4667, 0.6549, 0.2196],\n         [0.0000, 0.0000, 0.0000, 0.0000, 0.0000, 0.0000, 0.0000, 0.0000,\n          0.0000, 0.0157, 0.0000, 0.0000, 0.2157, 0.9255, 0.8941, 0.9020,\n          0.8941, 0.9412, 0.9098, 0.8353, 0.8549, 0.8745, 0.9176, 0.8510,\n          0.8510, 0.8196, 0.3608, 0.0000],\n         [0.0000, 0.0000, 0.0039, 0.0157, 0.0235, 0.0275, 0.0078, 0.0000,\n          0.0000, 0.0000, 0.0000, 0.0000, 0.9294, 0.8863, 0.8510, 0.8745,\n          0.8706, 0.8588, 0.8706, 0.8667, 0.8471, 0.8745, 0.8980, 0.8431,\n          0.8549, 1.0000, 0.3020, 0.0000],\n         [0.0000, 0.0118, 0.0000, 0.0000, 0.0000, 0.0000, 0.0000, 0.0000,\n          0.0000, 0.2431, 0.5686, 0.8000, 0.8941, 0.8118, 0.8353, 0.8667,\n          0.8549, 0.8157, 0.8275, 0.8549, 0.8784, 0.8745, 0.8588, 0.8431,\n          0.8784, 0.9569, 0.6235, 0.0000],\n         [0.0000, 0.0000, 0.0000, 0.0000, 0.0706, 0.1725, 0.3216, 0.4196,\n          0.7412, 0.8941, 0.8627, 0.8706, 0.8510, 0.8863, 0.7843, 0.8039,\n          0.8275, 0.9020, 0.8784, 0.9176, 0.6902, 0.7373, 0.9804, 0.9725,\n          0.9137, 0.9333, 0.8431, 0.0000],\n         [0.0000, 0.2235, 0.7333, 0.8157, 0.8784, 0.8667, 0.8784, 0.8157,\n          0.8000, 0.8392, 0.8157, 0.8196, 0.7843, 0.6235, 0.9608, 0.7569,\n          0.8078, 0.8745, 1.0000, 1.0000, 0.8667, 0.9176, 0.8667, 0.8275,\n          0.8627, 0.9098, 0.9647, 0.0000],\n         [0.0118, 0.7922, 0.8941, 0.8784, 0.8667, 0.8275, 0.8275, 0.8392,\n          0.8039, 0.8039, 0.8039, 0.8627, 0.9412, 0.3137, 0.5882, 1.0000,\n          0.8980, 0.8667, 0.7373, 0.6039, 0.7490, 0.8235, 0.8000, 0.8196,\n          0.8706, 0.8941, 0.8824, 0.0000],\n         [0.3843, 0.9137, 0.7765, 0.8235, 0.8706, 0.8980, 0.8980, 0.9176,\n          0.9765, 0.8627, 0.7608, 0.8431, 0.8510, 0.9451, 0.2549, 0.2863,\n          0.4157, 0.4588, 0.6588, 0.8588, 0.8667, 0.8431, 0.8510, 0.8745,\n          0.8745, 0.8784, 0.8980, 0.1137],\n         [0.2941, 0.8000, 0.8314, 0.8000, 0.7569, 0.8039, 0.8275, 0.8824,\n          0.8471, 0.7255, 0.7725, 0.8078, 0.7765, 0.8353, 0.9412, 0.7647,\n          0.8902, 0.9608, 0.9373, 0.8745, 0.8549, 0.8314, 0.8196, 0.8706,\n          0.8627, 0.8667, 0.9020, 0.2627],\n         [0.1882, 0.7961, 0.7176, 0.7608, 0.8353, 0.7725, 0.7255, 0.7451,\n          0.7608, 0.7529, 0.7922, 0.8392, 0.8588, 0.8667, 0.8627, 0.9255,\n          0.8824, 0.8471, 0.7804, 0.8078, 0.7294, 0.7098, 0.6941, 0.6745,\n          0.7098, 0.8039, 0.8078, 0.4510],\n         [0.0000, 0.4784, 0.8588, 0.7569, 0.7020, 0.6706, 0.7176, 0.7686,\n          0.8000, 0.8235, 0.8353, 0.8118, 0.8275, 0.8235, 0.7843, 0.7686,\n          0.7608, 0.7490, 0.7647, 0.7490, 0.7765, 0.7529, 0.6902, 0.6118,\n          0.6549, 0.6941, 0.8235, 0.3608],\n         [0.0000, 0.0000, 0.2902, 0.7412, 0.8314, 0.7490, 0.6863, 0.6745,\n          0.6863, 0.7098, 0.7255, 0.7373, 0.7412, 0.7373, 0.7569, 0.7765,\n          0.8000, 0.8196, 0.8235, 0.8235, 0.8275, 0.7373, 0.7373, 0.7608,\n          0.7529, 0.8471, 0.6667, 0.0000],\n         [0.0078, 0.0000, 0.0000, 0.0000, 0.2588, 0.7843, 0.8706, 0.9294,\n          0.9373, 0.9490, 0.9647, 0.9529, 0.9569, 0.8667, 0.8627, 0.7569,\n          0.7490, 0.7020, 0.7137, 0.7137, 0.7098, 0.6902, 0.6510, 0.6588,\n          0.3882, 0.2275, 0.0000, 0.0000],\n         [0.0000, 0.0000, 0.0000, 0.0000, 0.0000, 0.0000, 0.0000, 0.1569,\n          0.2392, 0.1725, 0.2824, 0.1608, 0.1373, 0.0000, 0.0000, 0.0000,\n          0.0000, 0.0000, 0.0000, 0.0000, 0.0000, 0.0000, 0.0000, 0.0000,\n          0.0000, 0.0000, 0.0000, 0.0000],\n         [0.0000, 0.0000, 0.0000, 0.0000, 0.0000, 0.0000, 0.0000, 0.0000,\n          0.0000, 0.0000, 0.0000, 0.0000, 0.0000, 0.0000, 0.0000, 0.0000,\n          0.0000, 0.0000, 0.0000, 0.0000, 0.0000, 0.0000, 0.0000, 0.0000,\n          0.0000, 0.0000, 0.0000, 0.0000],\n         [0.0000, 0.0000, 0.0000, 0.0000, 0.0000, 0.0000, 0.0000, 0.0000,\n          0.0000, 0.0000, 0.0000, 0.0000, 0.0000, 0.0000, 0.0000, 0.0000,\n          0.0000, 0.0000, 0.0000, 0.0000, 0.0000, 0.0000, 0.0000, 0.0000,\n          0.0000, 0.0000, 0.0000, 0.0000]]])"
     },
     "execution_count": 421,
     "metadata": {},
     "output_type": "execute_result"
    }
   ],
   "source": [
    "image"
   ],
   "metadata": {
    "collapsed": false,
    "ExecuteTime": {
     "end_time": "2023-08-17T12:21:29.256399100Z",
     "start_time": "2023-08-17T12:21:28.794503500Z"
    }
   }
  },
  {
   "cell_type": "code",
   "execution_count": 422,
   "outputs": [
    {
     "data": {
      "text/plain": "9"
     },
     "execution_count": 422,
     "metadata": {},
     "output_type": "execute_result"
    }
   ],
   "source": [
    "label"
   ],
   "metadata": {
    "collapsed": false,
    "ExecuteTime": {
     "end_time": "2023-08-17T12:21:29.256399100Z",
     "start_time": "2023-08-17T12:21:28.804542300Z"
    }
   }
  },
  {
   "cell_type": "code",
   "execution_count": 423,
   "outputs": [
    {
     "data": {
      "text/plain": "Dataset FashionMNIST\n    Number of datapoints: 60000\n    Root location: data\n    Split: Train\n    StandardTransform\nTransform: ToTensor()"
     },
     "execution_count": 423,
     "metadata": {},
     "output_type": "execute_result"
    }
   ],
   "source": [
    "training_data"
   ],
   "metadata": {
    "collapsed": false,
    "ExecuteTime": {
     "end_time": "2023-08-17T12:21:29.304506700Z",
     "start_time": "2023-08-17T12:21:28.814477800Z"
    }
   }
  },
  {
   "cell_type": "code",
   "execution_count": 424,
   "outputs": [
    {
     "data": {
      "text/plain": "torchvision.datasets.mnist.FashionMNIST"
     },
     "execution_count": 424,
     "metadata": {},
     "output_type": "execute_result"
    }
   ],
   "source": [
    "type(training_data)"
   ],
   "metadata": {
    "collapsed": false,
    "ExecuteTime": {
     "end_time": "2023-08-17T12:21:29.304506700Z",
     "start_time": "2023-08-17T12:21:28.824489600Z"
    }
   }
  },
  {
   "cell_type": "code",
   "execution_count": 425,
   "outputs": [
    {
     "data": {
      "text/plain": "torch.Size([1, 28, 28])"
     },
     "execution_count": 425,
     "metadata": {},
     "output_type": "execute_result"
    }
   ],
   "source": [
    "image.shape"
   ],
   "metadata": {
    "collapsed": false,
    "ExecuteTime": {
     "end_time": "2023-08-17T12:21:29.314577700Z",
     "start_time": "2023-08-17T12:21:28.830315Z"
    }
   }
  },
  {
   "cell_type": "markdown",
   "source": [
    "Various problems will have different input and output shapes, however, the premise remains: encode data into numbers, build a model to find patterns in those numbers, convert those patterns into something meaningful."
   ],
   "metadata": {
    "collapsed": false
   }
  },
  {
   "cell_type": "code",
   "execution_count": 426,
   "outputs": [
    {
     "data": {
      "text/plain": "(60000, 10000)"
     },
     "execution_count": 426,
     "metadata": {},
     "output_type": "execute_result"
    }
   ],
   "source": [
    "len(training_data), len(test_data)"
   ],
   "metadata": {
    "collapsed": false,
    "ExecuteTime": {
     "end_time": "2023-08-17T12:21:29.314577700Z",
     "start_time": "2023-08-17T12:21:28.836646700Z"
    }
   }
  },
  {
   "cell_type": "code",
   "execution_count": 427,
   "outputs": [
    {
     "data": {
      "text/plain": "['T-shirt/top',\n 'Trouser',\n 'Pullover',\n 'Dress',\n 'Coat',\n 'Sandal',\n 'Shirt',\n 'Sneaker',\n 'Bag',\n 'Ankle boot']"
     },
     "execution_count": 427,
     "metadata": {},
     "output_type": "execute_result"
    }
   ],
   "source": [
    "class_names = training_data.classes\n",
    "class_names"
   ],
   "metadata": {
    "collapsed": false,
    "ExecuteTime": {
     "end_time": "2023-08-17T12:21:29.314577700Z",
     "start_time": "2023-08-17T12:21:28.847210600Z"
    }
   }
  },
  {
   "cell_type": "code",
   "execution_count": 428,
   "outputs": [
    {
     "name": "stdout",
     "output_type": "stream",
     "text": [
      "Image shape: torch.Size([1, 28, 28])\n"
     ]
    },
    {
     "data": {
      "text/plain": "Text(0.5, 1.0, '9')"
     },
     "execution_count": 428,
     "metadata": {},
     "output_type": "execute_result"
    },
    {
     "data": {
      "text/plain": "<Figure size 640x480 with 1 Axes>",
      "image/png": "[encoded data removed]"
     },
     "metadata": {},
     "output_type": "display_data"
    }
   ],
   "source": [
    "print(f'Image shape: {image.shape}')\n",
    "plt.imshow(image.squeeze())\n",
    "plt.title(label)"
   ],
   "metadata": {
    "collapsed": false,
    "ExecuteTime": {
     "end_time": "2023-08-17T12:21:29.409880100Z",
     "start_time": "2023-08-17T12:21:28.854765700Z"
    }
   }
  },
  {
   "cell_type": "code",
   "execution_count": 429,
   "outputs": [
    {
     "data": {
      "text/plain": "<Figure size 640x480 with 1 Axes>",
      "image/png": "[encoded data removed]"
     },
     "metadata": {},
     "output_type": "display_data"
    }
   ],
   "source": [
    "plt.imshow(image.squeeze(), cmap='gray')\n",
    "plt.title(class_names[label]);"
   ],
   "metadata": {
    "collapsed": false,
    "ExecuteTime": {
     "end_time": "2023-08-17T12:21:29.409880100Z",
     "start_time": "2023-08-17T12:21:29.044432500Z"
    }
   }
  },
  {
   "cell_type": "code",
   "execution_count": 430,
   "outputs": [
    {
     "data": {
      "text/plain": "torch.Size([28, 28])"
     },
     "execution_count": 430,
     "metadata": {},
     "output_type": "execute_result"
    }
   ],
   "source": [
    "image.squeeze().shape"
   ],
   "metadata": {
    "collapsed": false,
    "ExecuteTime": {
     "end_time": "2023-08-17T12:21:29.409880100Z",
     "start_time": "2023-08-17T12:21:29.265550700Z"
    }
   }
  },
  {
   "cell_type": "code",
   "execution_count": 431,
   "outputs": [
    {
     "data": {
      "text/plain": "<Figure size 900x900 with 16 Axes>",
      "image/png": "[encoded data removed]"
     },
     "metadata": {},
     "output_type": "display_data"
    }
   ],
   "source": [
    "torch.manual_seed(178)\n",
    "\n",
    "fig = plt.figure(figsize=(9, 9))\n",
    "rows, cols = 4, 4\n",
    "\n",
    "for i in range(1, rows * cols + 1):\n",
    "    random_index = torch.randint(0, len(training_data), size=[1]).item()\n",
    "    img, label = training_data[random_index]\n",
    "    fig.add_subplot(rows, cols, i)\n",
    "    plt.imshow(img.squeeze(), cmap='gray')\n",
    "    plt.title(class_names[label])\n",
    "    plt.axis(False);"
   ],
   "metadata": {
    "collapsed": false,
    "ExecuteTime": {
     "end_time": "2023-08-17T12:21:30.534591300Z",
     "start_time": "2023-08-17T12:21:29.284631900Z"
    }
   }
  },
  {
   "cell_type": "markdown",
   "source": [
    "# 2. Prepare DataLoader\n",
    "DataLoader helps load data into a model, for both training and inference.\n",
    "Data is turned into iterables of chunks, i.e. batches or mini-batches."
   ],
   "metadata": {
    "collapsed": false
   }
  },
  {
   "cell_type": "code",
   "execution_count": 432,
   "outputs": [
    {
     "name": "stdout",
     "output_type": "stream",
     "text": [
      "Data Loaders: (<torch.utils.data.dataloader.DataLoader object at 0x000002153C606B10>, <torch.utils.data.dataloader.DataLoader object at 0x000002154183EB10>)\n",
      "Length of data loader objects: (1875, 313)\n"
     ]
    }
   ],
   "source": [
    "BATCH_SIZE = 32\n",
    "\n",
    "training_dataloader = DataLoader(\n",
    "    dataset=training_data,\n",
    "    batch_size=BATCH_SIZE,\n",
    "    shuffle=True,\n",
    ")\n",
    "\n",
    "test_dataloader = DataLoader(\n",
    "    dataset=test_data,\n",
    "    batch_size=BATCH_SIZE,\n",
    "    shuffle=True,\n",
    ")\n",
    "\n",
    "print(f'Data Loaders: {training_dataloader, test_dataloader}')\n",
    "print(f'Length of data loader objects: {len(training_dataloader), len(test_dataloader)}')"
   ],
   "metadata": {
    "collapsed": false,
    "ExecuteTime": {
     "end_time": "2023-08-17T12:21:30.548753600Z",
     "start_time": "2023-08-17T12:21:30.539635100Z"
    }
   }
  },
  {
   "cell_type": "code",
   "execution_count": 433,
   "outputs": [
    {
     "data": {
      "text/plain": "(tensor([[[[0.0000, 0.0000, 0.0000,  ..., 0.0000, 0.0000, 0.0000],\n           [0.0000, 0.0000, 0.0000,  ..., 0.0000, 0.0000, 0.0000],\n           [0.0000, 0.0000, 0.0000,  ..., 0.0000, 0.0000, 0.0000],\n           ...,\n           [0.0000, 0.0000, 0.0000,  ..., 0.0000, 0.0000, 0.0000],\n           [0.0000, 0.0000, 0.0000,  ..., 0.0000, 0.0000, 0.0000],\n           [0.0000, 0.0000, 0.0000,  ..., 0.0000, 0.0000, 0.0000]]],\n \n \n         [[[0.0000, 0.0000, 0.0000,  ..., 0.0000, 0.0000, 0.0000],\n           [0.0000, 0.0000, 0.0000,  ..., 0.0000, 0.0000, 0.0000],\n           [0.0000, 0.0000, 0.0000,  ..., 0.0000, 0.0000, 0.0000],\n           ...,\n           [0.0000, 0.0000, 0.0000,  ..., 0.2196, 0.0000, 0.0039],\n           [0.0000, 0.0000, 0.0000,  ..., 0.0000, 0.0000, 0.0000],\n           [0.0000, 0.0000, 0.0000,  ..., 0.0000, 0.0000, 0.0000]]],\n \n \n         [[[0.0000, 0.0000, 0.0000,  ..., 0.0000, 0.0000, 0.0000],\n           [0.0000, 0.0000, 0.0000,  ..., 0.0000, 0.0000, 0.0000],\n           [0.0000, 0.0000, 0.0000,  ..., 0.0000, 0.0000, 0.0000],\n           ...,\n           [0.0000, 0.0000, 0.0000,  ..., 0.0000, 0.0000, 0.0000],\n           [0.0000, 0.0000, 0.0000,  ..., 0.0000, 0.0000, 0.0000],\n           [0.0000, 0.0000, 0.0000,  ..., 0.0000, 0.0000, 0.0000]]],\n \n \n         ...,\n \n \n         [[[0.0000, 0.0000, 0.0000,  ..., 0.0000, 0.0000, 0.0000],\n           [0.0000, 0.0000, 0.0000,  ..., 0.0000, 0.0000, 0.0000],\n           [0.0000, 0.0000, 0.0000,  ..., 0.0000, 0.0000, 0.0000],\n           ...,\n           [0.0000, 0.0000, 0.0000,  ..., 0.0000, 0.0000, 0.0000],\n           [0.0000, 0.0000, 0.0000,  ..., 0.0000, 0.0000, 0.0000],\n           [0.0000, 0.0000, 0.0000,  ..., 0.0000, 0.0000, 0.0000]]],\n \n \n         [[[0.0000, 0.0000, 0.0000,  ..., 0.0000, 0.0000, 0.0000],\n           [0.0000, 0.0000, 0.0000,  ..., 0.0000, 0.0000, 0.0000],\n           [0.0000, 0.0000, 0.0000,  ..., 0.0000, 0.0000, 0.0000],\n           ...,\n           [0.0000, 0.0000, 0.0000,  ..., 0.0000, 0.0000, 0.0000],\n           [0.0000, 0.0000, 0.0000,  ..., 0.0000, 0.0000, 0.0000],\n           [0.0000, 0.0000, 0.0000,  ..., 0.0000, 0.0000, 0.0000]]],\n \n \n         [[[0.0000, 0.0000, 0.0000,  ..., 0.0000, 0.0000, 0.0000],\n           [0.0000, 0.0000, 0.0000,  ..., 0.0000, 0.0000, 0.0000],\n           [0.0000, 0.0000, 0.0000,  ..., 0.0000, 0.0000, 0.0000],\n           ...,\n           [0.0000, 0.0000, 0.0000,  ..., 0.0000, 0.0000, 0.0000],\n           [0.0000, 0.0000, 0.0000,  ..., 0.0000, 0.0000, 0.0000],\n           [0.0000, 0.0000, 0.0000,  ..., 0.0000, 0.0000, 0.0000]]]]),\n tensor([4, 9, 6, 5, 1, 6, 6, 4, 5, 1, 9, 6, 0, 3, 8, 4, 1, 9, 0, 8, 5, 7, 5, 4,\n         2, 0, 5, 3, 2, 3, 3, 6]))"
     },
     "execution_count": 433,
     "metadata": {},
     "output_type": "execute_result"
    }
   ],
   "source": [
    "training_features_batch, training_labels_batch = next(iter(training_dataloader))\n",
    "training_features_batch, training_labels_batch"
   ],
   "metadata": {
    "collapsed": false,
    "ExecuteTime": {
     "end_time": "2023-08-17T12:21:30.648634Z",
     "start_time": "2023-08-17T12:21:30.548753600Z"
    }
   }
  },
  {
   "cell_type": "markdown",
   "source": [
    "# 3. Model 0: Build Base Model\n",
    "A **baseline model** is the simplest model imaginable."
   ],
   "metadata": {
    "collapsed": false
   }
  },
  {
   "cell_type": "code",
   "execution_count": 434,
   "outputs": [
    {
     "name": "stdout",
     "output_type": "stream",
     "text": [
      "Shape of a single data point before being flattened: torch.Size([1, 28, 28]),Shape of a single data after being flattened: torch.Size([1, 784])\n"
     ]
    }
   ],
   "source": [
    "flatten_model = nn.Flatten()\n",
    "\n",
    "x = training_features_batch[0]\n",
    "output = flatten_model(x)\n",
    "\n",
    "print(f'Shape of a single data point before being flattened: {x.shape},'\n",
    "      f'Shape of a single data after being flattened: {output.shape}')"
   ],
   "metadata": {
    "collapsed": false,
    "ExecuteTime": {
     "end_time": "2023-08-17T12:21:30.648634Z",
     "start_time": "2023-08-17T12:21:30.576235800Z"
    }
   }
  },
  {
   "cell_type": "code",
   "execution_count": 435,
   "outputs": [],
   "source": [
    "class FashioMNISTModelV0(nn.Module):\n",
    "    def __init__(self, input_shape: int, hidden_units: int, output_shape: int):\n",
    "        super().__init__()\n",
    "        self.layer_stack = nn.Sequential(\n",
    "            nn.Flatten(),\n",
    "            nn.Linear(in_features=input_shape, out_features=hidden_units),\n",
    "            nn.Linear(in_features=hidden_units, out_features=output_shape)\n",
    "        )\n",
    "\n",
    "    def forward(self, x):\n",
    "        return self.layer_stack(x)"
   ],
   "metadata": {
    "collapsed": false,
    "ExecuteTime": {
     "end_time": "2023-08-17T12:21:30.648634Z",
     "start_time": "2023-08-17T12:21:30.589782800Z"
    }
   }
  },
  {
   "cell_type": "code",
   "execution_count": 436,
   "outputs": [
    {
     "data": {
      "text/plain": "FashioMNISTModelV0(\n  (layer_stack): Sequential(\n    (0): Flatten(start_dim=1, end_dim=-1)\n    (1): Linear(in_features=784, out_features=10, bias=True)\n    (2): Linear(in_features=10, out_features=10, bias=True)\n  )\n)"
     },
     "execution_count": 436,
     "metadata": {},
     "output_type": "execute_result"
    }
   ],
   "source": [
    "torch.manual_seed(178)\n",
    "\n",
    "model_0 = FashioMNISTModelV0(input_shape=784,\n",
    "                             hidden_units=10,\n",
    "                             output_shape=len(class_names)\n",
    "                             )\n",
    "model_0.to('cpu')"
   ],
   "metadata": {
    "collapsed": false,
    "ExecuteTime": {
     "end_time": "2023-08-17T12:21:30.648634Z",
     "start_time": "2023-08-17T12:21:30.594302800Z"
    }
   }
  },
  {
   "cell_type": "markdown",
   "source": [
    "## 3.1 Setup Loss and Optimizer, and Evaluation Metrics"
   ],
   "metadata": {
    "collapsed": false
   }
  },
  {
   "cell_type": "code",
   "execution_count": 437,
   "outputs": [],
   "source": [
    "loss_func = nn.CrossEntropyLoss()\n",
    "optimizer = torch.optim.SGD(params=model_0.parameters(),\n",
    "                            lr=0.1)"
   ],
   "metadata": {
    "collapsed": false,
    "ExecuteTime": {
     "end_time": "2023-08-17T12:21:30.648634Z",
     "start_time": "2023-08-17T12:21:30.608271700Z"
    }
   }
  },
  {
   "cell_type": "code",
   "execution_count": 438,
   "outputs": [],
   "source": [
    "def print_training_time(start: float, end: float, device: torch.device=None):\n",
    "    total_time = end - start\n",
    "    print(f'Training Time: {total_time: .3f} seconds')\n",
    "    return total_time"
   ],
   "metadata": {
    "collapsed": false,
    "ExecuteTime": {
     "end_time": "2023-08-17T12:21:30.648634Z",
     "start_time": "2023-08-17T12:21:30.619313500Z"
    }
   }
  },
  {
   "cell_type": "markdown",
   "source": [
    "## 3.2 Create a Training Loop and Train Model on Batches\n",
    "\n",
    "Keep in mind that the loss and evaluation metrics are computed **per batch**"
   ],
   "metadata": {
    "collapsed": false
   }
  },
  {
   "cell_type": "code",
   "execution_count": 439,
   "outputs": [
    {
     "data": {
      "text/plain": "  0%|          | 0/10 [00:00<?, ?it/s]",
      "application/vnd.jupyter.widget-view+json": {
       "version_major": 2,
       "version_minor": 0,
       "model_id": "73765ff6dc924bd0b665b8c941e0a4b3"
      }
     },
     "metadata": {},
     "output_type": "display_data"
    },
    {
     "name": "stdout",
     "output_type": "stream",
     "text": [
      "Epoch: 0\n",
      "Train Loss: 0.58495,Test Loss: 0.50940,Test Accuracy: 0.82049\n",
      "Epoch: 1\n",
      "Train Loss: 0.47507,Test Loss: 0.49318,Test Accuracy: 0.82907\n",
      "Epoch: 2\n",
      "Train Loss: 0.45374,Test Loss: 0.48505,Test Accuracy: 0.82648\n",
      "Epoch: 3\n",
      "Train Loss: 0.44151,Test Loss: 0.46806,Test Accuracy: 0.83367\n",
      "Epoch: 4\n",
      "Train Loss: 0.43483,Test Loss: 0.53234,Test Accuracy: 0.81110\n",
      "Epoch: 5\n",
      "Train Loss: 0.43014,Test Loss: 0.48102,Test Accuracy: 0.83037\n",
      "Epoch: 6\n",
      "Train Loss: 0.42656,Test Loss: 0.57253,Test Accuracy: 0.79203\n",
      "Epoch: 7\n",
      "Train Loss: 0.42137,Test Loss: 0.46613,Test Accuracy: 0.83417\n",
      "Epoch: 8\n",
      "Train Loss: 0.42065,Test Loss: 0.47848,Test Accuracy: 0.82658\n",
      "Epoch: 9\n",
      "Train Loss: 0.41731,Test Loss: 0.46368,Test Accuracy: 0.83746\n",
      "Training Time:  106.027 seconds\n"
     ]
    }
   ],
   "source": [
    "torch.manual_seed(178)\n",
    "training_time_start = timer()\n",
    "\n",
    "epochs = 10\n",
    "\n",
    "accuracy_func = torchmetrics.Accuracy(task='multiclass',\n",
    "                                      num_classes=len(class_names),\n",
    "                                      )\n",
    "\n",
    "for epoch in tqdm(range(epochs)):\n",
    "    print(f'Epoch: {epoch}')\n",
    "    ## TRAINING\n",
    "    training_loss = 0\n",
    "\n",
    "    for batch, (X, y) in enumerate(training_dataloader):\n",
    "        model_0.train()\n",
    "\n",
    "        # 1. Forward pass\n",
    "        y_pred = model_0(X)\n",
    "\n",
    "        # 2. loss per batch\n",
    "        loss = loss_func(y_pred, y)\n",
    "        training_loss += loss\n",
    "\n",
    "        # 3. Optimizer zero grad\n",
    "        optimizer.zero_grad()\n",
    "\n",
    "        # 4. Loss backwards\n",
    "        loss.backward()\n",
    "\n",
    "        # 5. Optimizer step\n",
    "        optimizer.step()\n",
    "\n",
    "    training_loss /= len(training_dataloader)\n",
    "\n",
    "    ## TESTING\n",
    "    test_loss, test_acc = 0, 0\n",
    "\n",
    "    model_0.eval()\n",
    "    with torch.inference_mode():\n",
    "        for X, y in test_dataloader:\n",
    "            # 1. Forward pass\n",
    "            test_pred = model_0(X)\n",
    "\n",
    "            # 2. Calculate loss and accuracy\n",
    "            test_loss += loss_func(test_pred, y)\n",
    "            test_acc += accuracy_func(test_pred, y)\n",
    "\n",
    "\n",
    "        test_loss /= len(test_dataloader)\n",
    "        test_acc /= len(test_dataloader)\n",
    "\n",
    "    print(f'Train Loss: {training_loss:.5f},'\n",
    "          f'Test Loss: {test_loss:.5f},'\n",
    "          f'Test Accuracy: {test_acc:.5f}')\n",
    "\n",
    "\n",
    "training_time_end = timer()\n",
    "total_training_time = print_training_time(training_time_start, training_time_end)"
   ],
   "metadata": {
    "collapsed": false,
    "ExecuteTime": {
     "end_time": "2023-08-17T12:23:16.673577700Z",
     "start_time": "2023-08-17T12:21:30.624315Z"
    }
   }
  },
  {
   "cell_type": "code",
   "execution_count": 440,
   "outputs": [],
   "source": [
    "def eval_model(model: torch.nn.Module,\n",
    "               data_loader: torch.utils.data.DataLoader,\n",
    "               loss_func: torch.nn.Module,\n",
    "               accuracy_func):\n",
    "    loss, acc = 0, 0\n",
    "    model.eval()\n",
    "    with torch.inference_mode():\n",
    "        for X, y in data_loader:\n",
    "            y_pred = model(X)\n",
    "\n",
    "            loss += loss_func(y_pred, y)\n",
    "            acc += accuracy_func(y_pred, y)\n",
    "\n",
    "        loss /= len(data_loader)\n",
    "        acc /= len(data_loader)\n",
    "\n",
    "    return {\n",
    "        'model_name': model.__class__.__name__,\n",
    "        'model_loss': loss.item(),\n",
    "        'model_accuracy': acc.item()\n",
    "    }"
   ],
   "metadata": {
    "collapsed": false,
    "ExecuteTime": {
     "end_time": "2023-08-17T12:23:16.684962300Z",
     "start_time": "2023-08-17T12:23:16.671579200Z"
    }
   }
  },
  {
   "cell_type": "code",
   "execution_count": 441,
   "outputs": [
    {
     "data": {
      "text/plain": "{'model_name': 'FashioMNISTModelV0',\n 'model_loss': 0.4633491635322571,\n 'model_accuracy': 0.8376597166061401}"
     },
     "execution_count": 441,
     "metadata": {},
     "output_type": "execute_result"
    }
   ],
   "source": [
    "eval_model(model_0,\n",
    "           test_dataloader,\n",
    "           loss_func,\n",
    "           accuracy_func)"
   ],
   "metadata": {
    "collapsed": false,
    "ExecuteTime": {
     "end_time": "2023-08-17T12:23:18.001464200Z",
     "start_time": "2023-08-17T12:23:16.686490500Z"
    }
   }
  },
  {
   "cell_type": "markdown",
   "source": [
    "# 4. Model 1: Non-linear Model"
   ],
   "metadata": {
    "collapsed": false
   }
  },
  {
   "cell_type": "code",
   "execution_count": 442,
   "outputs": [],
   "source": [
    "class FashionMNISTModelV1(nn.Module):\n",
    "    def __init__(self, input_shape: int, hidden_units: int, output_shape: int):\n",
    "        super().__init__()\n",
    "        self.layer_stack = nn.Sequential(\n",
    "            nn.Flatten(),\n",
    "            nn.Linear(in_features=input_shape, out_features=hidden_units),\n",
    "            nn.ReLU(),\n",
    "            nn.Linear(in_features=hidden_units, out_features=output_shape),\n",
    "            nn.ReLU(),\n",
    "        )\n",
    "\n",
    "    def forward(self, x: torch.Tensor):\n",
    "        return self.layer_stack(x)"
   ],
   "metadata": {
    "collapsed": false,
    "ExecuteTime": {
     "end_time": "2023-08-17T12:23:18.007735300Z",
     "start_time": "2023-08-17T12:23:18.004977Z"
    }
   }
  },
  {
   "cell_type": "code",
   "execution_count": 443,
   "outputs": [],
   "source": [
    "torch.manual_seed(178)\n",
    "\n",
    "model_1 = FashionMNISTModelV1(input_shape=784,\n",
    "                              hidden_units=10,\n",
    "                              output_shape=len(class_names))"
   ],
   "metadata": {
    "collapsed": false,
    "ExecuteTime": {
     "end_time": "2023-08-17T12:23:18.017094200Z",
     "start_time": "2023-08-17T12:23:18.007735300Z"
    }
   }
  },
  {
   "cell_type": "code",
   "execution_count": 444,
   "outputs": [],
   "source": [
    "loss_func = nn.CrossEntropyLoss()\n",
    "optimizer = torch.optim.SGD(params=model_1.parameters(),\n",
    "                            lr=0.1)"
   ],
   "metadata": {
    "collapsed": false,
    "ExecuteTime": {
     "end_time": "2023-08-17T12:23:18.024689900Z",
     "start_time": "2023-08-17T12:23:18.022102600Z"
    }
   }
  },
  {
   "cell_type": "code",
   "execution_count": 445,
   "outputs": [],
   "source": [
    "def training_phase(model: torch.nn.Module,\n",
    "                  data_loader: torch.utils.data.DataLoader,\n",
    "                  loss_func: torch.nn.Module,\n",
    "                  optimizer: torch.optim.Optimizer,\n",
    "                  accuracy_func,):\n",
    "    training_loss, training_acc = 0, 0\n",
    "    model.train()\n",
    "    for batch, (X, y) in enumerate(data_loader):\n",
    "        # 1. Forward pass\n",
    "        y_pred = model(X)\n",
    "\n",
    "        # 2. Calculate loss and accuracy\n",
    "        loss = loss_func(y_pred, y)\n",
    "        training_loss += loss\n",
    "        training_acc += accuracy_func(y_pred, y)\n",
    "\n",
    "        # 3. Optimizer zero grad\n",
    "        optimizer.zero_grad()\n",
    "\n",
    "        # 4. Loss backward\n",
    "        loss.backward()\n",
    "\n",
    "        # 5. Optimizer step\n",
    "        optimizer.step()\n",
    "\n",
    "    training_acc /= len(data_loader)\n",
    "    training_loss /= len(data_loader)\n",
    "\n",
    "    print(f'Training Loss: {training_loss:.5f},'\n",
    "          f'Training Accuracy: {training_acc:.5f}')"
   ],
   "metadata": {
    "collapsed": false,
    "ExecuteTime": {
     "end_time": "2023-08-17T12:23:18.113544700Z",
     "start_time": "2023-08-17T12:23:18.024689900Z"
    }
   }
  },
  {
   "cell_type": "code",
   "execution_count": 446,
   "outputs": [],
   "source": [
    "def test_phase(model: torch.nn.Module,\n",
    "               data_loader: torch.utils.data.DataLoader,\n",
    "               loss_func: torch.nn.Module,\n",
    "               accuracy_func):\n",
    "    test_loss, test_acc = 0, 0\n",
    "    model.eval()\n",
    "\n",
    "    with torch.inference_mode():\n",
    "        for X, y in data_loader:\n",
    "            test_pred = model(X)\n",
    "\n",
    "            test_loss += loss_func(test_pred, y)\n",
    "            test_acc += accuracy_func(test_pred, y)\n",
    "\n",
    "        test_loss /= len(data_loader)\n",
    "        test_acc /= len(data_loader)\n",
    "\n",
    "        print(f'Test Loss: {test_loss:.5f},'\n",
    "              f'Test Accuracy: {test_acc: .5f}')"
   ],
   "metadata": {
    "collapsed": false,
    "ExecuteTime": {
     "end_time": "2023-08-17T12:23:18.114672Z",
     "start_time": "2023-08-17T12:23:18.039724300Z"
    }
   }
  },
  {
   "cell_type": "code",
   "execution_count": 447,
   "outputs": [
    {
     "data": {
      "text/plain": "  0%|          | 0/10 [00:00<?, ?it/s]",
      "application/vnd.jupyter.widget-view+json": {
       "version_major": 2,
       "version_minor": 0,
       "model_id": "cbcced5860b348c3b75307946b8604f1"
      }
     },
     "metadata": {},
     "output_type": "display_data"
    },
    {
     "name": "stdout",
     "output_type": "stream",
     "text": [
      "Epoch: 0\n",
      "Training Loss: 1.43905,Training Accuracy: 0.46805\n",
      "Test Loss: 1.23069,Test Accuracy:  0.57079\n",
      "Epoch: 1\n",
      "Training Loss: 1.02710,Training Accuracy: 0.63015\n",
      "Test Loss: 0.78176,Test Accuracy:  0.72664\n",
      "Epoch: 2\n",
      "Training Loss: 0.70690,Training Accuracy: 0.74340\n",
      "Test Loss: 0.71002,Test Accuracy:  0.74331\n",
      "Epoch: 3\n",
      "Training Loss: 0.67676,Training Accuracy: 0.75042\n",
      "Test Loss: 0.69464,Test Accuracy:  0.74591\n",
      "Epoch: 4\n",
      "Training Loss: 0.66022,Training Accuracy: 0.75570\n",
      "Test Loss: 0.70272,Test Accuracy:  0.74151\n",
      "Epoch: 5\n",
      "Training Loss: 0.64911,Training Accuracy: 0.75780\n",
      "Test Loss: 0.72404,Test Accuracy:  0.72953\n",
      "Epoch: 6\n",
      "Training Loss: 0.64110,Training Accuracy: 0.75932\n",
      "Test Loss: 0.71824,Test Accuracy:  0.73732\n",
      "Epoch: 7\n",
      "Training Loss: 0.63349,Training Accuracy: 0.76188\n",
      "Test Loss: 0.68040,Test Accuracy:  0.74880\n",
      "Epoch: 8\n",
      "Training Loss: 0.62688,Training Accuracy: 0.76517\n",
      "Test Loss: 0.70027,Test Accuracy:  0.74151\n",
      "Epoch: 9\n",
      "Training Loss: 0.62060,Training Accuracy: 0.76598\n",
      "Test Loss: 0.66563,Test Accuracy:  0.75329\n",
      "Training Time:  132.764 seconds\n"
     ]
    }
   ],
   "source": [
    "torch.manual_seed(178)\n",
    "epochs = 10\n",
    "\n",
    "start = timer()\n",
    "\n",
    "for epoch in tqdm(range(epochs)):\n",
    "    print(f'Epoch: {epoch}')\n",
    "    training_phase(model_1,\n",
    "                   training_dataloader,\n",
    "                   loss_func,\n",
    "                   optimizer,\n",
    "                   accuracy_func)\n",
    "    test_phase(model_1,\n",
    "               test_dataloader,\n",
    "               loss_func,\n",
    "               accuracy_func)\n",
    "\n",
    "end = timer()\n",
    "total_training_time_model_1 = print_training_time(start, end)"
   ],
   "metadata": {
    "collapsed": false,
    "ExecuteTime": {
     "end_time": "2023-08-17T12:25:30.835201500Z",
     "start_time": "2023-08-17T12:23:18.049013Z"
    }
   }
  },
  {
   "cell_type": "markdown",
   "source": [
    "## **Non-linear model performs worse than the linear baseline model**"
   ],
   "metadata": {
    "collapsed": false
   }
  },
  {
   "cell_type": "code",
   "execution_count": 448,
   "outputs": [
    {
     "data": {
      "text/plain": "{'model_name': 'FashionMNISTModelV1',\n 'model_loss': 0.6657403111457825,\n 'model_accuracy': 0.7531948685646057}"
     },
     "execution_count": 448,
     "metadata": {},
     "output_type": "execute_result"
    }
   ],
   "source": [
    "eval_model(model_1,\n",
    "           test_dataloader,\n",
    "           loss_func,\n",
    "           accuracy_func)"
   ],
   "metadata": {
    "collapsed": false,
    "ExecuteTime": {
     "end_time": "2023-08-17T12:25:32.425234100Z",
     "start_time": "2023-08-17T12:25:30.833176600Z"
    }
   }
  },
  {
   "cell_type": "code",
   "execution_count": 449,
   "outputs": [
    {
     "data": {
      "text/plain": "{'model_name': 'FashioMNISTModelV0',\n 'model_loss': 0.4646682143211365,\n 'model_accuracy': 0.8373602032661438}"
     },
     "execution_count": 449,
     "metadata": {},
     "output_type": "execute_result"
    }
   ],
   "source": [
    "eval_model(model_0,\n",
    "           test_dataloader,\n",
    "           loss_func,\n",
    "           accuracy_func)"
   ],
   "metadata": {
    "collapsed": false,
    "ExecuteTime": {
     "end_time": "2023-08-17T12:25:34.295030300Z",
     "start_time": "2023-08-17T12:25:32.425234100Z"
    }
   }
  },
  {
   "cell_type": "code",
   "execution_count": 450,
   "outputs": [
    {
     "data": {
      "text/plain": "{'model_name': 'FashioMNISTModelV0',\n 'model_loss': 0.4042064845561981,\n 'model_accuracy': 0.8579999804496765}"
     },
     "execution_count": 450,
     "metadata": {},
     "output_type": "execute_result"
    }
   ],
   "source": [
    "eval_model(model_0,\n",
    "           training_dataloader,\n",
    "           loss_func,\n",
    "           accuracy_func)"
   ],
   "metadata": {
    "collapsed": false,
    "ExecuteTime": {
     "end_time": "2023-08-17T12:25:44.067758900Z",
     "start_time": "2023-08-17T12:25:34.295030300Z"
    }
   }
  },
  {
   "cell_type": "markdown",
   "source": [
    "# 5. Model 2: Convolutional Neural Network (CNN)\n",
    "\n",
    "CNN models are mostly used to discover patterns in visual data.\n",
    "Typycal structure of a CNN model:\n",
    "\n",
    "``` Input layer -> [Convolutional layer -> Activation layer -> Pooling layer] -> Output layer```"
   ],
   "metadata": {
    "collapsed": false
   }
  },
  {
   "cell_type": "code",
   "execution_count": 451,
   "outputs": [],
   "source": [
    "class FashionMNISTModelV2(nn.Module):\n",
    "    def __init__(self, input_shape: int, hidden_units: int, output_shape: int):\n",
    "        super().__init__()\n",
    "        self.block_1 = nn.Sequential(\n",
    "            nn.Conv2d(in_channels=input_shape,\n",
    "                      out_channels=hidden_units,\n",
    "                      kernel_size=3,\n",
    "                      stride=1,\n",
    "                      padding=1),\n",
    "            nn.ReLU(),\n",
    "            nn.Conv2d(in_channels=hidden_units,\n",
    "                      out_channels=hidden_units,\n",
    "                      kernel_size=3,\n",
    "                      stride=1,\n",
    "                      padding=1),\n",
    "            nn.ReLU(),\n",
    "            nn.MaxPool2d(kernel_size=2,\n",
    "                         stride=2),\n",
    "        )\n",
    "\n",
    "        self.block_2 = nn.Sequential(\n",
    "            nn.Conv2d(in_channels=hidden_units,\n",
    "                      out_channels=hidden_units,\n",
    "                      kernel_size=3,\n",
    "                      stride=1,\n",
    "                      padding=1),\n",
    "            nn.ReLU(),\n",
    "            nn.Conv2d(in_channels=hidden_units,\n",
    "                      out_channels=hidden_units,\n",
    "                      kernel_size=3,\n",
    "                      stride=1,\n",
    "                      padding=1),\n",
    "            nn.ReLU(),\n",
    "            nn.MaxPool2d(kernel_size=2,)\n",
    "        )\n",
    "\n",
    "        self.classifier = nn.Sequential(\n",
    "            nn.Flatten(),\n",
    "            nn.Linear(in_features=hidden_units * 7 * 7,\n",
    "                      out_features=output_shape)\n",
    "        )\n",
    "\n",
    "    def forward(self, x: torch.Tensor):\n",
    "        x = self.block_1(x)\n",
    "        x = self.block_2(x)\n",
    "        return self.classifier(x)"
   ],
   "metadata": {
    "collapsed": false,
    "ExecuteTime": {
     "end_time": "2023-08-17T12:25:44.081909600Z",
     "start_time": "2023-08-17T12:25:44.067758900Z"
    }
   }
  },
  {
   "cell_type": "code",
   "execution_count": 452,
   "outputs": [
    {
     "data": {
      "text/plain": "FashionMNISTModelV2(\n  (block_1): Sequential(\n    (0): Conv2d(1, 10, kernel_size=(3, 3), stride=(1, 1), padding=(1, 1))\n    (1): ReLU()\n    (2): Conv2d(10, 10, kernel_size=(3, 3), stride=(1, 1), padding=(1, 1))\n    (3): ReLU()\n    (4): MaxPool2d(kernel_size=2, stride=2, padding=0, dilation=1, ceil_mode=False)\n  )\n  (block_2): Sequential(\n    (0): Conv2d(10, 10, kernel_size=(3, 3), stride=(1, 1), padding=(1, 1))\n    (1): ReLU()\n    (2): Conv2d(10, 10, kernel_size=(3, 3), stride=(1, 1), padding=(1, 1))\n    (3): ReLU()\n    (4): MaxPool2d(kernel_size=2, stride=2, padding=0, dilation=1, ceil_mode=False)\n  )\n  (classifier): Sequential(\n    (0): Flatten(start_dim=1, end_dim=-1)\n    (1): Linear(in_features=490, out_features=10, bias=True)\n  )\n)"
     },
     "execution_count": 452,
     "metadata": {},
     "output_type": "execute_result"
    }
   ],
   "source": [
    "torch.manual_seed(178)\n",
    "model_2 = FashionMNISTModelV2(input_shape=1,\n",
    "                              hidden_units=10,\n",
    "                              output_shape=len(class_names))\n",
    "model_2"
   ],
   "metadata": {
    "collapsed": false,
    "ExecuteTime": {
     "end_time": "2023-08-17T12:25:44.094871900Z",
     "start_time": "2023-08-17T12:25:44.084932Z"
    }
   }
  },
  {
   "cell_type": "code",
   "execution_count": 453,
   "outputs": [],
   "source": [
    "loss_func = nn.CrossEntropyLoss()\n",
    "optimizer = torch.optim.SGD(params=model_2.parameters(),\n",
    "                            lr=0.1)"
   ],
   "metadata": {
    "collapsed": false,
    "ExecuteTime": {
     "end_time": "2023-08-17T12:25:44.183526200Z",
     "start_time": "2023-08-17T12:25:44.097913Z"
    }
   }
  },
  {
   "cell_type": "code",
   "execution_count": 454,
   "outputs": [
    {
     "data": {
      "text/plain": "  0%|          | 0/10 [00:00<?, ?it/s]",
      "application/vnd.jupyter.widget-view+json": {
       "version_major": 2,
       "version_minor": 0,
       "model_id": "1666589366c7401ab87a3f0a5f0d4143"
      }
     },
     "metadata": {},
     "output_type": "display_data"
    },
    {
     "name": "stdout",
     "output_type": "stream",
     "text": [
      "Epoch: 0\n",
      "Training Loss: 0.59288,Training Accuracy: 0.78452\n",
      "Test Loss: 0.42598,Test Accuracy:  0.84365\n",
      "Epoch: 1\n",
      "Training Loss: 0.35693,Training Accuracy: 0.87138\n",
      "Test Loss: 0.34663,Test Accuracy:  0.87760\n",
      "Epoch: 2\n",
      "Training Loss: 0.32003,Training Accuracy: 0.88343\n",
      "Test Loss: 0.33310,Test Accuracy:  0.87530\n",
      "Epoch: 3\n",
      "Training Loss: 0.29867,Training Accuracy: 0.89110\n",
      "Test Loss: 0.30995,Test Accuracy:  0.88878\n",
      "Epoch: 4\n",
      "Training Loss: 0.28502,Training Accuracy: 0.89593\n",
      "Test Loss: 0.31540,Test Accuracy:  0.88349\n",
      "Epoch: 5\n",
      "Training Loss: 0.27304,Training Accuracy: 0.90032\n",
      "Test Loss: 0.32753,Test Accuracy:  0.87979\n",
      "Epoch: 6\n",
      "Training Loss: 0.26385,Training Accuracy: 0.90370\n",
      "Test Loss: 0.30074,Test Accuracy:  0.89197\n",
      "Epoch: 7\n",
      "Training Loss: 0.25488,Training Accuracy: 0.90722\n",
      "Test Loss: 0.28350,Test Accuracy:  0.89886\n",
      "Epoch: 8\n",
      "Training Loss: 0.24864,Training Accuracy: 0.90893\n",
      "Test Loss: 0.29950,Test Accuracy:  0.88888\n",
      "Epoch: 9\n",
      "Training Loss: 0.24314,Training Accuracy: 0.91085\n",
      "Test Loss: 0.29484,Test Accuracy:  0.89706\n",
      "Training Time:  466.903 seconds\n"
     ]
    }
   ],
   "source": [
    "torch.manual_seed(178)\n",
    "start = timer()\n",
    "epochs = 10\n",
    "\n",
    "for epoch in tqdm(range(epochs)):\n",
    "    print(f'Epoch: {epoch}')\n",
    "    training_phase(model_2,\n",
    "                   training_dataloader,\n",
    "                   loss_func,\n",
    "                   optimizer,\n",
    "                   accuracy_func)\n",
    "\n",
    "    test_phase(model_2,\n",
    "               test_dataloader,\n",
    "               loss_func,\n",
    "               accuracy_func)\n",
    "\n",
    "end = timer()\n",
    "\n",
    "total_training_time = print_training_time(start, end)"
   ],
   "metadata": {
    "collapsed": false,
    "ExecuteTime": {
     "end_time": "2023-08-17T12:33:31.030640700Z",
     "start_time": "2023-08-17T12:25:44.104871700Z"
    }
   }
  },
  {
   "cell_type": "code",
   "execution_count": 455,
   "outputs": [
    {
     "data": {
      "text/plain": "{'model_name': 'FashionMNISTModelV2',\n 'model_loss': 0.2946328818798065,\n 'model_accuracy': 0.897164523601532}"
     },
     "execution_count": 455,
     "metadata": {},
     "output_type": "execute_result"
    }
   ],
   "source": [
    "eval_model(model_2,\n",
    "           test_dataloader,\n",
    "           loss_func,\n",
    "           accuracy_func)"
   ],
   "metadata": {
    "collapsed": false,
    "ExecuteTime": {
     "end_time": "2023-08-17T12:33:34.925816800Z",
     "start_time": "2023-08-17T12:33:31.029071900Z"
    }
   }
  },
  {
   "cell_type": "code",
   "execution_count": 456,
   "outputs": [
    {
     "data": {
      "text/plain": "{'model_name': 'FashionMNISTModelV1',\n 'model_loss': 0.6664487719535828,\n 'model_accuracy': 0.7531948685646057}"
     },
     "execution_count": 456,
     "metadata": {},
     "output_type": "execute_result"
    }
   ],
   "source": [
    "eval_model(model_1,\n",
    "           test_dataloader,\n",
    "           loss_func,\n",
    "           accuracy_func)"
   ],
   "metadata": {
    "collapsed": false,
    "ExecuteTime": {
     "end_time": "2023-08-17T12:33:36.550878600Z",
     "start_time": "2023-08-17T12:33:34.895669700Z"
    }
   }
  },
  {
   "cell_type": "code",
   "execution_count": 457,
   "outputs": [
    {
     "data": {
      "text/plain": "{'model_name': 'FashioMNISTModelV0',\n 'model_loss': 0.4656889736652374,\n 'model_accuracy': 0.8371605277061462}"
     },
     "execution_count": 457,
     "metadata": {},
     "output_type": "execute_result"
    }
   ],
   "source": [
    "eval_model(model_0,\n",
    "           test_dataloader,\n",
    "           loss_func,\n",
    "           accuracy_func)"
   ],
   "metadata": {
    "collapsed": false,
    "ExecuteTime": {
     "end_time": "2023-08-17T12:33:38.300566400Z",
     "start_time": "2023-08-17T12:33:36.544321300Z"
    }
   }
  },
  {
   "cell_type": "code",
   "execution_count": 458,
   "outputs": [],
   "source": [
    "def make_predictions(model: torch.nn.Module,\n",
    "                     data: list,):\n",
    "    pred_probs = []\n",
    "    model.eval()\n",
    "    with torch.inference_mode():\n",
    "        for sample in data:\n",
    "            sample = torch.unsqueeze(sample, dim=0)\n",
    "            pred_logits = model(sample)\n",
    "            pred_prob = torch.softmax(pred_logits.squeeze(),\n",
    "                                      dim=0)\n",
    "\n",
    "            pred_probs.append(pred_prob)\n",
    "\n",
    "        return torch.stack(pred_probs)"
   ],
   "metadata": {
    "collapsed": false,
    "ExecuteTime": {
     "end_time": "2023-08-17T12:33:38.310437500Z",
     "start_time": "2023-08-17T12:33:38.295524700Z"
    }
   }
  },
  {
   "cell_type": "code",
   "execution_count": 459,
   "outputs": [],
   "source": [
    "random.seed(178)\n",
    "test_samples = []\n",
    "test_labels = []\n",
    "\n",
    "for sample, label in random.sample(list(test_data), k=9):\n",
    "    test_samples.append(sample)\n",
    "    test_labels.append(label)"
   ],
   "metadata": {
    "collapsed": false,
    "ExecuteTime": {
     "end_time": "2023-08-17T12:33:39.598532900Z",
     "start_time": "2023-08-17T12:33:38.315446800Z"
    }
   }
  },
  {
   "cell_type": "code",
   "execution_count": 460,
   "outputs": [
    {
     "data": {
      "text/plain": "tensor([[3.0528e-01, 5.9994e-05, 1.1092e-02, 2.3546e-03, 4.7730e-03, 4.4434e-02,\n         5.7538e-01, 6.3712e-03, 5.0182e-02, 7.2366e-05],\n        [7.5759e-09, 1.2577e-08, 8.4208e-09, 2.0276e-08, 1.4635e-08, 5.3850e-04,\n         1.6450e-08, 9.9945e-01, 6.3786e-07, 8.7340e-06],\n        [1.1859e-02, 5.9650e-06, 2.7081e-02, 1.2085e-04, 6.8018e-01, 7.1839e-06,\n         2.8068e-01, 1.3656e-07, 5.9618e-05, 1.0464e-05],\n        [9.0726e-10, 3.4911e-10, 1.2490e-08, 1.1294e-09, 4.4660e-09, 1.0000e+00,\n         1.0602e-08, 3.1318e-07, 3.6129e-06, 8.5081e-08],\n        [9.9359e-01, 4.7943e-06, 6.6596e-05, 1.9018e-04, 1.8023e-04, 2.7329e-07,\n         5.9556e-03, 3.3952e-08, 8.7705e-06, 4.4835e-07],\n        [1.8621e-06, 3.7400e-07, 9.8182e-07, 2.6082e-06, 9.6724e-07, 2.6417e-02,\n         5.6261e-06, 5.5510e-03, 1.4535e-03, 9.6657e-01],\n        [1.8392e-07, 1.0518e-08, 2.3907e-05, 3.5468e-06, 2.4473e-08, 3.8721e-06,\n         1.2351e-07, 2.5334e-07, 9.9997e-01, 8.6309e-09],\n        [5.0047e-04, 2.9745e-06, 1.1546e-04, 6.0107e-06, 5.8689e-06, 5.8195e-06,\n         6.4876e-04, 1.2369e-04, 9.9721e-01, 1.3763e-03],\n        [7.1076e-04, 3.0286e-04, 4.7834e-03, 3.5481e-03, 9.8910e-01, 5.1351e-07,\n         7.5430e-04, 1.8919e-05, 7.4606e-04, 3.5559e-05]])"
     },
     "execution_count": 460,
     "metadata": {},
     "output_type": "execute_result"
    }
   ],
   "source": [
    "pred_probs = make_predictions(model_2,\n",
    "                              test_samples)\n",
    "\n",
    "pred_probs"
   ],
   "metadata": {
    "collapsed": false,
    "ExecuteTime": {
     "end_time": "2023-08-17T12:33:39.625442700Z",
     "start_time": "2023-08-17T12:33:39.606812400Z"
    }
   }
  },
  {
   "cell_type": "code",
   "execution_count": 461,
   "outputs": [
    {
     "data": {
      "text/plain": "tensor([6, 7, 4, 5, 0, 9, 8, 8, 4])"
     },
     "execution_count": 461,
     "metadata": {},
     "output_type": "execute_result"
    }
   ],
   "source": [
    "pred_classes = pred_probs.argmax(dim=1)\n",
    "pred_classes"
   ],
   "metadata": {
    "collapsed": false,
    "ExecuteTime": {
     "end_time": "2023-08-17T12:33:39.640008100Z",
     "start_time": "2023-08-17T12:33:39.625442700Z"
    }
   }
  },
  {
   "cell_type": "code",
   "execution_count": 462,
   "outputs": [
    {
     "data": {
      "text/plain": "<Figure size 900x900 with 9 Axes>",
      "image/png": "[encoded data removed]"
     },
     "metadata": {},
     "output_type": "display_data"
    }
   ],
   "source": [
    "plt.figure(figsize=(9, 9))\n",
    "nrows = 3\n",
    "ncols = 3\n",
    "\n",
    "for i, sample in enumerate(test_samples):\n",
    "    plt.subplot(nrows, ncols, i+1)\n",
    "\n",
    "    plt.imshow(sample.squeeze(), cmap='gray')\n",
    "    pred_label = class_names[pred_classes[i]]\n",
    "\n",
    "    true_label = class_names[test_labels[i]]\n",
    "\n",
    "    title_text = f'Pred: {pred_label} | Truth: {true_label}'\n",
    "    plt.title(title_text, fontsize=10, c='r')\n",
    "\n",
    "plt.axis(False);"
   ],
   "metadata": {
    "collapsed": false,
    "ExecuteTime": {
     "end_time": "2023-08-17T12:33:40.885729800Z",
     "start_time": "2023-08-17T12:33:39.635450100Z"
    }
   }
  },
  {
   "cell_type": "code",
   "execution_count": 463,
   "outputs": [
    {
     "data": {
      "text/plain": "Making predictions:   0%|          | 0/313 [00:00<?, ?it/s]",
      "application/vnd.jupyter.widget-view+json": {
       "version_major": 2,
       "version_minor": 0,
       "model_id": "4d1d4160b65d4d41a650874cd7caf7e3"
      }
     },
     "metadata": {},
     "output_type": "display_data"
    }
   ],
   "source": [
    "y_preds = []\n",
    "model_2.eval()\n",
    "\n",
    "with torch.inference_mode():\n",
    "    for X, y in tqdm(test_dataloader, desc='Making predictions'):\n",
    "        y_logits = model_2(X)\n",
    "\n",
    "        y_pred = torch.softmax(y_logits, dim=1).argmax(dim=1)\n",
    "\n",
    "        y_preds.append(y_pred)\n",
    "\n",
    "y_pred_tensor = torch.cat(y_preds)"
   ],
   "metadata": {
    "collapsed": false,
    "ExecuteTime": {
     "end_time": "2023-08-17T12:33:45.215912400Z",
     "start_time": "2023-08-17T12:33:40.895516700Z"
    }
   }
  },
  {
   "cell_type": "code",
   "execution_count": 464,
   "outputs": [
    {
     "name": "stdout",
     "output_type": "stream",
     "text": [
      "0.22.0\n"
     ]
    }
   ],
   "source": [
    "print(mlxtend.__version__)\n",
    "from mlxtend.plotting import plot_confusion_matrix"
   ],
   "metadata": {
    "collapsed": false,
    "ExecuteTime": {
     "end_time": "2023-08-17T12:33:45.237688Z",
     "start_time": "2023-08-17T12:33:45.218970200Z"
    }
   }
  },
  {
   "cell_type": "code",
   "execution_count": 465,
   "outputs": [
    {
     "data": {
      "text/plain": "<Figure size 1000x700 with 1 Axes>",
      "image/png": "[encoded data removed]"
     },
     "metadata": {},
     "output_type": "display_data"
    }
   ],
   "source": [
    "confusion_matrix = torchmetrics.ConfusionMatrix(num_classes=len(class_names),\n",
    "                                                task='multiclass')\n",
    "confusion_tensor = confusion_matrix(preds=y_pred_tensor,\n",
    "                                    target=test_data.targets)\n",
    "\n",
    "fig, ax = plot_confusion_matrix(\n",
    "    conf_mat=confusion_tensor.numpy(),\n",
    "    class_names=class_names,\n",
    "    figsize=(10, 7)\n",
    ");"
   ],
   "metadata": {
    "collapsed": false,
    "ExecuteTime": {
     "end_time": "2023-08-17T12:33:45.690653Z",
     "start_time": "2023-08-17T12:33:45.232652700Z"
    }
   }
  },
  {
   "cell_type": "code",
   "execution_count": 465,
   "outputs": [],
   "source": [],
   "metadata": {
    "collapsed": false,
    "ExecuteTime": {
     "end_time": "2023-08-17T12:33:45.690653Z",
     "start_time": "2023-08-17T12:33:45.690124800Z"
    }
   }
  }
 ],
 "metadata": {
  "kernelspec": {
   "display_name": "Python 3",
   "language": "python",
   "name": "python3"
  },
  "language_info": {
   "codemirror_mode": {
    "name": "ipython",
    "version": 2
   },
   "file_extension": ".py",
   "mimetype": "text/x-python",
   "name": "python",
   "nbconvert_exporter": "python",
   "pygments_lexer": "ipython2",
   "version": "2.7.6"
  }
 },
 "nbformat": 4,
 "nbformat_minor": 0
}
