{
 "cells": [
  {
   "cell_type": "code",
   "execution_count": 3,
   "metadata": {
    "collapsed": true,
    "ExecuteTime": {
     "end_time": "2023-08-11T07:26:23.021638400Z",
     "start_time": "2023-08-11T07:26:16.607818800Z"
    }
   },
   "outputs": [],
   "source": [
    "import torch\n",
    "import numpy as np\n",
    "import matplotlib.pyplot as plt\n",
    "import pandas as pd"
   ]
  },
  {
   "cell_type": "code",
   "execution_count": 4,
   "outputs": [
    {
     "data": {
      "text/plain": "'2.0.1+cpu'"
     },
     "execution_count": 4,
     "metadata": {},
     "output_type": "execute_result"
    }
   ],
   "source": [
    "torch.__version__"
   ],
   "metadata": {
    "collapsed": false,
    "ExecuteTime": {
     "end_time": "2023-08-11T07:26:24.257428900Z",
     "start_time": "2023-08-11T07:26:24.230284200Z"
    }
   }
  },
  {
   "cell_type": "markdown",
   "source": [
    "## 1. Data Preparation\n",
    "\n",
    "In ML, data should be presented numerical values."
   ],
   "metadata": {
    "collapsed": false
   }
  },
  {
   "cell_type": "code",
   "execution_count": 17,
   "outputs": [],
   "source": [
    "def linear_regression(X, w, b):\n",
    "    return w * X + b\n",
    "\n",
    "w = 3.4\n",
    "b = 2\n",
    "\n",
    "X = torch.arange(1, 20, 0.1).unsqueeze(dim=1) # Converts a row-vector into a column-vector\n",
    "y = linear_regression(X, w, b)"
   ],
   "metadata": {
    "collapsed": false,
    "ExecuteTime": {
     "end_time": "2023-08-11T07:34:39.673115700Z",
     "start_time": "2023-08-11T07:34:39.657244100Z"
    }
   }
  },
  {
   "cell_type": "code",
   "execution_count": 18,
   "outputs": [
    {
     "name": "stdout",
     "output_type": "stream",
     "text": [
      "Shape of X: torch.Size([190, 1]), Shape of y: torch.Size([190, 1])\n"
     ]
    }
   ],
   "source": [
    "print(f'Shape of X: {X.shape}, Shape of y: {y.shape}')"
   ],
   "metadata": {
    "collapsed": false,
    "ExecuteTime": {
     "end_time": "2023-08-11T07:34:40.371976400Z",
     "start_time": "2023-08-11T07:34:40.350512600Z"
    }
   }
  },
  {
   "cell_type": "code",
   "execution_count": 21,
   "outputs": [
    {
     "name": "stdout",
     "output_type": "stream",
     "text": [
      "X: tensor([[1.0000],\n",
      "        [1.1000],\n",
      "        [1.2000],\n",
      "        [1.3000],\n",
      "        [1.4000],\n",
      "        [1.5000],\n",
      "        [1.6000],\n",
      "        [1.7000],\n",
      "        [1.8000],\n",
      "        [1.9000]]), y: tensor([[5.4000],\n",
      "        [5.7400],\n",
      "        [6.0800],\n",
      "        [6.4200],\n",
      "        [6.7600],\n",
      "        [7.1000],\n",
      "        [7.4400],\n",
      "        [7.7800],\n",
      "        [8.1200],\n",
      "        [8.4600]])\n"
     ]
    }
   ],
   "source": [
    "print(f'X: {X[:10]}, y: {y[:10]}')"
   ],
   "metadata": {
    "collapsed": false,
    "ExecuteTime": {
     "end_time": "2023-08-11T07:35:16.971483900Z",
     "start_time": "2023-08-11T07:35:16.901582300Z"
    }
   }
  },
  {
   "cell_type": "code",
   "execution_count": null,
   "outputs": [],
   "source": [
    "training_split = 0.8\n",
    "training_size = len(X) * tr\n",
    "X_train, X_test, y_train, y_test = X[]"
   ],
   "metadata": {
    "collapsed": false
   }
  }
 ],
 "metadata": {
  "kernelspec": {
   "display_name": "Python 3",
   "language": "python",
   "name": "python3"
  },
  "language_info": {
   "codemirror_mode": {
    "name": "ipython",
    "version": 2
   },
   "file_extension": ".py",
   "mimetype": "text/x-python",
   "name": "python",
   "nbconvert_exporter": "python",
   "pygments_lexer": "ipython2",
   "version": "2.7.6"
  }
 },
 "nbformat": 4,
 "nbformat_minor": 0
}
