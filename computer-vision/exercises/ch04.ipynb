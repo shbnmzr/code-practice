{
 "cells": [
  {
   "cell_type": "code",
   "execution_count": 139,
   "metadata": {
    "collapsed": true
   },
   "outputs": [],
   "source": [
    "import numpy as np\n",
    "import matplotlib.pyplot as plt\n",
    "import cv2 as cv\n",
    "\n",
    "%config InlineBackend.figure_formats = 'retina'"
   ]
  },
  {
   "cell_type": "code",
   "execution_count": 140,
   "outputs": [],
   "source": [
    "def display_image(img):\n",
    "    plt.axis('off')\n",
    "    plt.imshow(img)\n",
    "    plt.show()\n",
    "    plt.close()"
   ],
   "metadata": {
    "collapsed": false
   }
  },
  {
   "cell_type": "markdown",
   "source": [
    "## Average Filters\n",
    "\n",
    "The average filter is good at reducing Gaussian noise, which is a type of noise that has a Gaussian distribution and affects all pixels in the image equally."
   ],
   "metadata": {
    "collapsed": false
   }
  },
  {
   "cell_type": "code",
   "execution_count": null,
   "outputs": [],
   "source": [
    "house = plt.imread('./house.jpg')\n",
    "display_image(house)"
   ],
   "metadata": {
    "collapsed": false,
    "pycharm": {
     "is_executing": true
    }
   }
  },
  {
   "cell_type": "code",
   "execution_count": null,
   "outputs": [],
   "source": [
    "kernel = np.ones((9, 9), np.float32) / 81\n",
    "blurred = cv.filter2D(src=house, ddepth=-1, kernel=kernel)\n",
    "\n",
    "display_image(blurred)"
   ],
   "metadata": {
    "collapsed": false,
    "pycharm": {
     "is_executing": true
    }
   }
  },
  {
   "cell_type": "markdown",
   "source": [
    "## Median Filters\n",
    "\n",
    "The median filter is particularly good at reducing salt-and-pepper noise, which is a type of noise that randomly affects individual pixels in the image."
   ],
   "metadata": {
    "collapsed": false
   }
  },
  {
   "cell_type": "code",
   "execution_count": null,
   "outputs": [],
   "source": [
    "field = plt.imread('./field.jpg')\n",
    "\n",
    "display_image(field)"
   ],
   "metadata": {
    "collapsed": false,
    "pycharm": {
     "is_executing": true
    }
   }
  },
  {
   "cell_type": "code",
   "execution_count": null,
   "outputs": [],
   "source": [
    "median_blur = cv.medianBlur(field, 7)\n",
    "\n",
    "display_image(median_blur)"
   ],
   "metadata": {
    "collapsed": false,
    "pycharm": {
     "is_executing": true
    }
   }
  },
  {
   "cell_type": "code",
   "execution_count": null,
   "outputs": [],
   "source": [
    "kernel = np.ones((9, 9), np.float32) / 81\n",
    "blur = cv.filter2D(src=field, ddepth=-1, kernel=kernel)\n",
    "\n",
    "display_image(blur)"
   ],
   "metadata": {
    "collapsed": false,
    "pycharm": {
     "is_executing": true
    }
   }
  },
  {
   "cell_type": "code",
   "execution_count": null,
   "outputs": [],
   "source": [
    "workers = plt.imread('./workers.jpg')\n",
    "\n",
    "display_image(workers)"
   ],
   "metadata": {
    "collapsed": false,
    "pycharm": {
     "is_executing": true
    }
   }
  },
  {
   "cell_type": "code",
   "execution_count": null,
   "outputs": [],
   "source": [
    "workers_med = cv.medianBlur(workers, 3)\n",
    "\n",
    "display_image(workers_med)"
   ],
   "metadata": {
    "collapsed": false,
    "pycharm": {
     "is_executing": true
    }
   }
  },
  {
   "cell_type": "code",
   "execution_count": null,
   "outputs": [],
   "source": [
    "kernel = np.ones((3, 3), np.float32) / 9\n",
    "workers_ave = cv.filter2D(src=workers, ddepth=-1, kernel=kernel)\n",
    "\n",
    "display_image(workers_ave)"
   ],
   "metadata": {
    "collapsed": false,
    "pycharm": {
     "is_executing": true
    }
   }
  },
  {
   "cell_type": "markdown",
   "source": [
    "## Gaussian Filter"
   ],
   "metadata": {
    "collapsed": false
   }
  },
  {
   "cell_type": "code",
   "execution_count": null,
   "outputs": [],
   "source": [
    "house_gaussian = cv.GaussianBlur(house, (7, 7), cv.BORDER_DEFAULT)\n",
    "\n",
    "display_image(house_gaussian)"
   ],
   "metadata": {
    "collapsed": false,
    "pycharm": {
     "is_executing": true
    }
   }
  },
  {
   "cell_type": "code",
   "execution_count": null,
   "outputs": [],
   "source": [
    "from matplotlib import rcParams\n",
    "\n",
    "rcParams['figure.figsize'] = 18, 14\n",
    "fig, ax = plt.subplots(2, 2)\n",
    "\n",
    "kernel = np.ones((15, 15), np.float32) / 225\n",
    "\n",
    "house_gaus = cv.GaussianBlur(house, (15, 15), cv.BORDER_DEFAULT)\n",
    "house_med = cv.medianBlur(house, 15)\n",
    "house_ave = cv.filter2D(src=house, ddepth=-1, kernel=kernel)\n",
    "\n",
    "titles = ['Original', 'Gaussian Blur', 'Median Blur', 'Average Blur']\n",
    "images = [house, house_gaus, house_med, house_ave]\n",
    "\n",
    "for i in range(4):\n",
    "    plt.subplot(2, 2, i+1), plt.imshow(images[i])\n",
    "    plt.title(titles[i])\n",
    "    plt.xticks([]), plt.yticks([])\n",
    "\n",
    "plt.show()"
   ],
   "metadata": {
    "collapsed": false,
    "pycharm": {
     "is_executing": true
    }
   }
  },
  {
   "cell_type": "markdown",
   "source": [
    "## Edge Detection Filters"
   ],
   "metadata": {
    "collapsed": false
   }
  },
  {
   "cell_type": "code",
   "execution_count": null,
   "outputs": [],
   "source": [
    "lr_matrix = np.array([[+1, 0, -1],\n",
    "                   [+2, 0, -2],\n",
    "                   [+1, 0, -1]])\n",
    "\n",
    "rl_matrix = np.array([[-1, 0, +1],\n",
    "                      [-2, 0, +2],\n",
    "                      [-1, 0, +1]])\n",
    "\n",
    "ud_matrix = np.array([[+1, +2, +1],\n",
    "                              [0, 0, 0],\n",
    "                              [-1, -2, -1]])\n",
    "\n",
    "du_matrix = np.array([[-1, -2, -1],\n",
    "                      [0, 0, 0],\n",
    "                      [+1, +2, +1]])\n",
    "\n",
    "penguins = plt.imread('./penguins.png')\n",
    "penguins = cv.cvtColor(penguins, cv.COLOR_RGB2GRAY)\n",
    "\n",
    "plt.axis('off')\n",
    "plt.imshow(penguins, cmap='gray')\n",
    "plt.show()"
   ],
   "metadata": {
    "collapsed": false,
    "pycharm": {
     "is_executing": true
    }
   }
  },
  {
   "cell_type": "code",
   "execution_count": null,
   "outputs": [],
   "source": [
    "vr_edges = cv.filter2D(src=penguins, ddepth=-1, kernel=lr_matrix)\n",
    "\n",
    "display_image(vr_edges)"
   ],
   "metadata": {
    "collapsed": false,
    "pycharm": {
     "is_executing": true
    }
   }
  },
  {
   "cell_type": "code",
   "execution_count": null,
   "outputs": [],
   "source": [
    "hr_edges = cv.filter2D(src=penguins, ddepth=-1, kernel=ud_matrix)\n",
    "\n",
    "display_image(hr_edges)"
   ],
   "metadata": {
    "collapsed": false,
    "pycharm": {
     "is_executing": true
    }
   }
  },
  {
   "cell_type": "code",
   "execution_count": null,
   "outputs": [],
   "source": [
    "# Horizontal Matrices\n",
    "\n",
    "lr = cv.filter2D(src=penguins, ddepth=-1, kernel=lr_matrix)\n",
    "rl = cv.filter2D(src=penguins, ddepth=-1, kernel=rl_matrix)\n",
    "ud = cv.filter2D(src=penguins, ddepth=-1, kernel=ud_matrix)\n",
    "du = cv.filter2D(src=penguins, ddepth=-1, kernel=du_matrix)\n",
    "\n",
    "images = [lr, rl, ud, du]\n",
    "\n",
    "for i in range(4):\n",
    "    plt.subplot(2, 2, i+1), plt.imshow(images[i])\n",
    "\n",
    "plt.show()"
   ],
   "metadata": {
    "collapsed": false,
    "pycharm": {
     "is_executing": true
    }
   }
  },
  {
   "cell_type": "code",
   "execution_count": null,
   "outputs": [],
   "source": [],
   "metadata": {
    "collapsed": false,
    "pycharm": {
     "is_executing": true
    }
   }
  }
 ],
 "metadata": {
  "kernelspec": {
   "display_name": "Python 3",
   "language": "python",
   "name": "python3"
  },
  "language_info": {
   "codemirror_mode": {
    "name": "ipython",
    "version": 2
   },
   "file_extension": ".py",
   "mimetype": "text/x-python",
   "name": "python",
   "nbconvert_exporter": "python",
   "pygments_lexer": "ipython2",
   "version": "2.7.6"
  }
 },
 "nbformat": 4,
 "nbformat_minor": 0
}
